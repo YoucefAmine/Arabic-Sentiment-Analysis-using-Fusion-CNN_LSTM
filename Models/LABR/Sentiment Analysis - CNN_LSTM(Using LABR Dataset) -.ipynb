{
  "cells": [
    {
      "cell_type": "markdown",
      "metadata": {
        "id": "En5KcfQ977aF"
      },
      "source": [
        "**Importing the libraries needed** "
      ]
    },
    {
      "cell_type": "code",
      "source": [
        "import numpy as np\n",
        "import pandas as pd\n",
        "import time\n",
        "\n",
        "\n",
        "import matplotlib.pyplot as plt\n",
        "import seaborn as sns\n",
        "\n",
        "import re\n",
        "import string\n",
        "\n",
        "from sklearn.model_selection import train_test_split\n",
        "from sklearn.metrics import confusion_matrix, classification_report, accuracy_score\n",
        "\n",
        "import gensim\n",
        "from gensim.models import KeyedVectors\n",
        "\n",
        "from keras.preprocessing.text import Tokenizer\n",
        "from keras.preprocessing.sequence import pad_sequences\n",
        "\n",
        "import tensorflow as tf\n",
        "from keras.models import Sequential\n",
        "from tensorflow.keras.layers import SpatialDropout1D, Conv1D, Bidirectional, LSTM, Dense, Input, Dropout, GlobalMaxPooling1D\n",
        "from keras.layers.embeddings import Embedding\n",
        "from tensorflow.keras.callbacks import ModelCheckpoint, ReduceLROnPlateau, EarlyStopping\n",
        "from tensorflow.keras.optimizers import Adam\n",
        "\n",
        "import itertools\n",
        "from numpy import loadtxt\n",
        "from keras.models import load_model\n",
        "\n",
        "import warnings\n",
        "warnings.filterwarnings(\"ignore\")"
      ],
      "metadata": {
        "id": "UedihKbFaGRw"
      },
      "execution_count": 1,
      "outputs": []
    },
    {
      "cell_type": "markdown",
      "source": [
        "**Connecting to google drive**"
      ],
      "metadata": {
        "id": "xHYYJY5Eprjm"
      }
    },
    {
      "cell_type": "code",
      "source": [
        "from google.colab import drive\n",
        "drive.mount(\"/content/gdrive\")"
      ],
      "metadata": {
        "colab": {
          "base_uri": "https://localhost:8080/"
        },
        "id": "naII_z2LacpB",
        "outputId": "36661f00-ce0f-4a14-8b74-d6e8d83344b8"
      },
      "execution_count": 2,
      "outputs": [
        {
          "output_type": "stream",
          "name": "stdout",
          "text": [
            "Mounted at /content/gdrive\n"
          ]
        }
      ]
    },
    {
      "cell_type": "markdown",
      "source": [
        " \n",
        "**Uploading the dataset**"
      ],
      "metadata": {
        "id": "BADzPl6RpzKe"
      }
    },
    {
      "cell_type": "code",
      "source": [
        "# path_data = \"/content/gdrive/MyDrive/thesis/LABR.tsv\"\n",
        "\n",
        "# LABR = pd.read_csv(path_data, sep='\\t')\n",
        "\n",
        "path_data = \"/content/gdrive/MyDrive/thesis/LABR.xlsx\"\n",
        "\n",
        "LABR = pd.read_excel(path_data)"
      ],
      "metadata": {
        "id": "dXhCSDNvbkkU"
      },
      "execution_count": 3,
      "outputs": []
    },
    {
      "cell_type": "code",
      "source": [
        "data = LABR"
      ],
      "metadata": {
        "id": "DKkvAv13el-g"
      },
      "execution_count": 4,
      "outputs": []
    },
    {
      "cell_type": "markdown",
      "source": [
        "**printing the first 3 rows of the data**"
      ],
      "metadata": {
        "id": "bJQzPQ_gp_O4"
      }
    },
    {
      "cell_type": "code",
      "source": [
        "data.head(3)"
      ],
      "metadata": {
        "colab": {
          "base_uri": "https://localhost:8080/",
          "height": 143
        },
        "id": "q7feEPcNf3r5",
        "outputId": "87785430-e20b-40f7-d318-1c6185c817cb"
      },
      "execution_count": 5,
      "outputs": [
        {
          "output_type": "execute_result",
          "data": {
            "text/plain": [
              "   rating   Unnamed: 1  Unnamed: 2  Unnamed: 3  \\\n",
              "0     4.0  338670838.0   7878381.0  13431841.0   \n",
              "1     4.0   39428407.0   1775679.0   3554772.0   \n",
              "2     4.0   32159373.0   1304410.0   3554772.0   \n",
              "\n",
              "                                              review  \n",
              "0  عزازيل الذي صنعناه ،الكامن في أنفسنا يذكرني يو...  \n",
              "1  من أمتع ما قرأت من روايات بلا شك. وحول الشك تد...  \n",
              "2  رواية تتخذ من التاريخ ،جوًا لها اختار المؤلف ف...  "
            ],
            "text/html": [
              "\n",
              "  <div id=\"df-2cb86f09-9988-4bc3-82de-2cf88c3ce380\">\n",
              "    <div class=\"colab-df-container\">\n",
              "      <div>\n",
              "<style scoped>\n",
              "    .dataframe tbody tr th:only-of-type {\n",
              "        vertical-align: middle;\n",
              "    }\n",
              "\n",
              "    .dataframe tbody tr th {\n",
              "        vertical-align: top;\n",
              "    }\n",
              "\n",
              "    .dataframe thead th {\n",
              "        text-align: right;\n",
              "    }\n",
              "</style>\n",
              "<table border=\"1\" class=\"dataframe\">\n",
              "  <thead>\n",
              "    <tr style=\"text-align: right;\">\n",
              "      <th></th>\n",
              "      <th>rating</th>\n",
              "      <th>Unnamed: 1</th>\n",
              "      <th>Unnamed: 2</th>\n",
              "      <th>Unnamed: 3</th>\n",
              "      <th>review</th>\n",
              "    </tr>\n",
              "  </thead>\n",
              "  <tbody>\n",
              "    <tr>\n",
              "      <th>0</th>\n",
              "      <td>4.0</td>\n",
              "      <td>338670838.0</td>\n",
              "      <td>7878381.0</td>\n",
              "      <td>13431841.0</td>\n",
              "      <td>عزازيل الذي صنعناه ،الكامن في أنفسنا يذكرني يو...</td>\n",
              "    </tr>\n",
              "    <tr>\n",
              "      <th>1</th>\n",
              "      <td>4.0</td>\n",
              "      <td>39428407.0</td>\n",
              "      <td>1775679.0</td>\n",
              "      <td>3554772.0</td>\n",
              "      <td>من أمتع ما قرأت من روايات بلا شك. وحول الشك تد...</td>\n",
              "    </tr>\n",
              "    <tr>\n",
              "      <th>2</th>\n",
              "      <td>4.0</td>\n",
              "      <td>32159373.0</td>\n",
              "      <td>1304410.0</td>\n",
              "      <td>3554772.0</td>\n",
              "      <td>رواية تتخذ من التاريخ ،جوًا لها اختار المؤلف ف...</td>\n",
              "    </tr>\n",
              "  </tbody>\n",
              "</table>\n",
              "</div>\n",
              "      <button class=\"colab-df-convert\" onclick=\"convertToInteractive('df-2cb86f09-9988-4bc3-82de-2cf88c3ce380')\"\n",
              "              title=\"Convert this dataframe to an interactive table.\"\n",
              "              style=\"display:none;\">\n",
              "        \n",
              "  <svg xmlns=\"http://www.w3.org/2000/svg\" height=\"24px\"viewBox=\"0 0 24 24\"\n",
              "       width=\"24px\">\n",
              "    <path d=\"M0 0h24v24H0V0z\" fill=\"none\"/>\n",
              "    <path d=\"M18.56 5.44l.94 2.06.94-2.06 2.06-.94-2.06-.94-.94-2.06-.94 2.06-2.06.94zm-11 1L8.5 8.5l.94-2.06 2.06-.94-2.06-.94L8.5 2.5l-.94 2.06-2.06.94zm10 10l.94 2.06.94-2.06 2.06-.94-2.06-.94-.94-2.06-.94 2.06-2.06.94z\"/><path d=\"M17.41 7.96l-1.37-1.37c-.4-.4-.92-.59-1.43-.59-.52 0-1.04.2-1.43.59L10.3 9.45l-7.72 7.72c-.78.78-.78 2.05 0 2.83L4 21.41c.39.39.9.59 1.41.59.51 0 1.02-.2 1.41-.59l7.78-7.78 2.81-2.81c.8-.78.8-2.07 0-2.86zM5.41 20L4 18.59l7.72-7.72 1.47 1.35L5.41 20z\"/>\n",
              "  </svg>\n",
              "      </button>\n",
              "      \n",
              "  <style>\n",
              "    .colab-df-container {\n",
              "      display:flex;\n",
              "      flex-wrap:wrap;\n",
              "      gap: 12px;\n",
              "    }\n",
              "\n",
              "    .colab-df-convert {\n",
              "      background-color: #E8F0FE;\n",
              "      border: none;\n",
              "      border-radius: 50%;\n",
              "      cursor: pointer;\n",
              "      display: none;\n",
              "      fill: #1967D2;\n",
              "      height: 32px;\n",
              "      padding: 0 0 0 0;\n",
              "      width: 32px;\n",
              "    }\n",
              "\n",
              "    .colab-df-convert:hover {\n",
              "      background-color: #E2EBFA;\n",
              "      box-shadow: 0px 1px 2px rgba(60, 64, 67, 0.3), 0px 1px 3px 1px rgba(60, 64, 67, 0.15);\n",
              "      fill: #174EA6;\n",
              "    }\n",
              "\n",
              "    [theme=dark] .colab-df-convert {\n",
              "      background-color: #3B4455;\n",
              "      fill: #D2E3FC;\n",
              "    }\n",
              "\n",
              "    [theme=dark] .colab-df-convert:hover {\n",
              "      background-color: #434B5C;\n",
              "      box-shadow: 0px 1px 3px 1px rgba(0, 0, 0, 0.15);\n",
              "      filter: drop-shadow(0px 1px 2px rgba(0, 0, 0, 0.3));\n",
              "      fill: #FFFFFF;\n",
              "    }\n",
              "  </style>\n",
              "\n",
              "      <script>\n",
              "        const buttonEl =\n",
              "          document.querySelector('#df-2cb86f09-9988-4bc3-82de-2cf88c3ce380 button.colab-df-convert');\n",
              "        buttonEl.style.display =\n",
              "          google.colab.kernel.accessAllowed ? 'block' : 'none';\n",
              "\n",
              "        async function convertToInteractive(key) {\n",
              "          const element = document.querySelector('#df-2cb86f09-9988-4bc3-82de-2cf88c3ce380');\n",
              "          const dataTable =\n",
              "            await google.colab.kernel.invokeFunction('convertToInteractive',\n",
              "                                                     [key], {});\n",
              "          if (!dataTable) return;\n",
              "\n",
              "          const docLinkHtml = 'Like what you see? Visit the ' +\n",
              "            '<a target=\"_blank\" href=https://colab.research.google.com/notebooks/data_table.ipynb>data table notebook</a>'\n",
              "            + ' to learn more about interactive tables.';\n",
              "          element.innerHTML = '';\n",
              "          dataTable['output_type'] = 'display_data';\n",
              "          await google.colab.output.renderOutput(dataTable, element);\n",
              "          const docLink = document.createElement('div');\n",
              "          docLink.innerHTML = docLinkHtml;\n",
              "          element.appendChild(docLink);\n",
              "        }\n",
              "      </script>\n",
              "    </div>\n",
              "  </div>\n",
              "  "
            ]
          },
          "metadata": {},
          "execution_count": 5
        }
      ]
    },
    {
      "cell_type": "markdown",
      "source": [
        "**printing the shape of the dataset nbr of row and columns**"
      ],
      "metadata": {
        "id": "VwXDd4oUqKZL"
      }
    },
    {
      "cell_type": "code",
      "source": [
        "print(\"Data contient {} lignes et {} colonnes.\".format(data.shape[0], data.shape[1]))"
      ],
      "metadata": {
        "colab": {
          "base_uri": "https://localhost:8080/"
        },
        "id": "MB8JS7NNtQpf",
        "outputId": "866e256b-4119-49ab-b400-631e8603c981"
      },
      "execution_count": 6,
      "outputs": [
        {
          "output_type": "stream",
          "name": "stdout",
          "text": [
            "Data contient 63066 lignes et 5 colonnes.\n"
          ]
        }
      ]
    },
    {
      "cell_type": "markdown",
      "source": [
        " **printing the fiels with missed values**\n",
        "\n"
      ],
      "metadata": {
        "id": "HU9GqLArqYls"
      }
    },
    {
      "cell_type": "code",
      "source": [
        "data.isnull().sum()"
      ],
      "metadata": {
        "colab": {
          "base_uri": "https://localhost:8080/"
        },
        "id": "-ZY0H2oYtaBA",
        "outputId": "ca3a2419-e5ab-4fc2-f39c-4c142c6ffa48"
      },
      "execution_count": 7,
      "outputs": [
        {
          "output_type": "execute_result",
          "data": {
            "text/plain": [
              "rating        0\n",
              "Unnamed: 1    0\n",
              "Unnamed: 2    0\n",
              "Unnamed: 3    0\n",
              "review        0\n",
              "dtype: int64"
            ]
          },
          "metadata": {},
          "execution_count": 7
        }
      ]
    },
    {
      "cell_type": "markdown",
      "source": [
        "**printing the number of the duplicated rows**"
      ],
      "metadata": {
        "id": "xzjbolY5qyrw"
      }
    },
    {
      "cell_type": "code",
      "source": [
        "print(\"On a  {} doublons dans Data.\".format(data.duplicated().sum()))"
      ],
      "metadata": {
        "colab": {
          "base_uri": "https://localhost:8080/"
        },
        "id": "pLckLWmUxZMM",
        "outputId": "9415daf9-92eb-4d27-8bb2-067bade25dab"
      },
      "execution_count": 8,
      "outputs": [
        {
          "output_type": "stream",
          "name": "stdout",
          "text": [
            "On a  2464 doublons dans Data.\n"
          ]
        }
      ]
    },
    {
      "cell_type": "code",
      "source": [
        "data.drop_duplicates(inplace = True)"
      ],
      "metadata": {
        "id": "FBEpbaQXdV4j"
      },
      "execution_count": 9,
      "outputs": []
    },
    {
      "cell_type": "code",
      "source": [
        "print(\"On a  {} doublons dans Data.\".format(data.duplicated().sum()))"
      ],
      "metadata": {
        "colab": {
          "base_uri": "https://localhost:8080/"
        },
        "id": "0Y5Rb3ZMdWkE",
        "outputId": "71c1b7dd-6c9f-4edf-81b6-c85bcb6746dc"
      },
      "execution_count": 10,
      "outputs": [
        {
          "output_type": "stream",
          "name": "stdout",
          "text": [
            "On a  0 doublons dans Data.\n"
          ]
        }
      ]
    },
    {
      "cell_type": "markdown",
      "source": [
        "**checking the types of the fiels in the data**"
      ],
      "metadata": {
        "id": "N9MMOuUlrAAm"
      }
    },
    {
      "cell_type": "code",
      "source": [
        "data.dtypes"
      ],
      "metadata": {
        "colab": {
          "base_uri": "https://localhost:8080/"
        },
        "id": "JKvnEbNDuMXH",
        "outputId": "f134844a-3ab0-48eb-9da8-582618ac11f1"
      },
      "execution_count": 11,
      "outputs": [
        {
          "output_type": "execute_result",
          "data": {
            "text/plain": [
              "rating        float64\n",
              "Unnamed: 1    float64\n",
              "Unnamed: 2    float64\n",
              "Unnamed: 3    float64\n",
              "review         object\n",
              "dtype: object"
            ]
          },
          "metadata": {},
          "execution_count": 11
        }
      ]
    },
    {
      "cell_type": "markdown",
      "source": [
        "**function for printing the pie**"
      ],
      "metadata": {
        "id": "8v0AK1OUrQGz"
      }
    },
    {
      "cell_type": "code",
      "source": [
        "def pie(data,col):\n",
        "    labels = data[col].value_counts().keys().tolist()\n",
        "    n = len(labels)\n",
        "    if n==2:\n",
        "        colors = ['#66b3ff', '#fb3999']\n",
        "    elif n==3:\n",
        "        colors = ['#66b3ff', '#fb3999', '#ffcc99']\n",
        "    elif n==4:\n",
        "        colors = ['#66b3ff', '#fb3999', '#ffcc99',\"#66f3ff\"]\n",
        "    elif n==5:\n",
        "        colors = ['#66b3ff', '#fb3999', '#ffcc99',\"#66f3ff\",'#adcc99']\n",
        "    elif n==6:\n",
        "        colors = ['#66b3ff', '#fb3999', '#ffcc99',\"#66f3ff\",'#adcc99',\"#db7f23\"]\n",
        "    \n",
        "    fig1, f1 = plt.subplots()\n",
        "    f1.pie(data[col].value_counts(), labels=labels, colors = colors, autopct='%1.1f%%',shadow=False, startangle=60) \n",
        "    f1.axis('equal')\n",
        "    plt.tight_layout()\n",
        "    plt.show()\n",
        "    \n",
        "def histo(data,col):\n",
        "    plt.figure(figsize = (10, 8))\n",
        "    sns.histplot(data=data, x=col, hue = data[col], fill=True)"
      ],
      "metadata": {
        "id": "NKsJG1v6xmwu"
      },
      "execution_count": 12,
      "outputs": []
    },
    {
      "cell_type": "markdown",
      "source": [
        "**Counting the % of each classe**"
      ],
      "metadata": {
        "id": "jsHaFYHdrrEr"
      }
    },
    {
      "cell_type": "code",
      "source": [
        "data.rating.value_counts(normalize = True)"
      ],
      "metadata": {
        "colab": {
          "base_uri": "https://localhost:8080/"
        },
        "id": "tp-nT2EBxmg5",
        "outputId": "518fd93d-f92d-4dbd-8a57-b5093a46eaaf"
      },
      "execution_count": 13,
      "outputs": [
        {
          "output_type": "execute_result",
          "data": {
            "text/plain": [
              "5.0    0.375433\n",
              "4.0    0.301508\n",
              "3.0    0.193310\n",
              "2.0    0.083479\n",
              "1.0    0.046269\n",
              "Name: rating, dtype: float64"
            ]
          },
          "metadata": {},
          "execution_count": 13
        }
      ]
    },
    {
      "cell_type": "markdown",
      "source": [
        "**Printing the distribution of the classes**"
      ],
      "metadata": {
        "id": "KGUDWDHGsLtZ"
      }
    },
    {
      "cell_type": "code",
      "source": [
        "pie(data, \"rating\")"
      ],
      "metadata": {
        "colab": {
          "base_uri": "https://localhost:8080/",
          "height": 297
        },
        "id": "MXfBwk6-xmZD",
        "outputId": "63dd6501-9ae4-4675-888e-0c733981f895"
      },
      "execution_count": 14,
      "outputs": [
        {
          "output_type": "display_data",
          "data": {
            "text/plain": [
              "<Figure size 432x288 with 1 Axes>"
            ],
            "image/png": "[encoded data removed]"
          },
          "metadata": {}
        }
      ]
    },
    {
      "cell_type": "markdown",
      "source": [
        "**Repartitionning the data to 2 classes**"
      ],
      "metadata": {
        "id": "sD2cvglIsYID"
      }
    },
    {
      "cell_type": "code",
      "source": [
        "positive_reviews = data[data[\"rating\"] > 3]\n",
        "positive_reviews[\"sentiment\"] = 1\n",
        "\n",
        "negative_reviews = data[data[\"rating\"] < 3]\n",
        "negative_reviews[\"sentiment\"] = 0\n",
        "\n",
        "data = pd.concat([positive_reviews, negative_reviews], ignore_index = True)"
      ],
      "metadata": {
        "id": "TjOxe2PsxmBA"
      },
      "execution_count": 15,
      "outputs": []
    },
    {
      "cell_type": "markdown",
      "source": [
        " **printing the number of rows in both classes**"
      ],
      "metadata": {
        "id": "MnnT6CsCs0xY"
      }
    },
    {
      "cell_type": "code",
      "source": [
        "print(\"data contient {} lignes.\".format(data.shape[0]))\n",
        "\n",
        "print(\"Positive_reviews contient {} lignes.\".format(positive_reviews.shape[0]))\n",
        "\n",
        "print(\"Negative_reviews contient {} lignes.\".format(negative_reviews.shape[0]))"
      ],
      "metadata": {
        "colab": {
          "base_uri": "https://localhost:8080/"
        },
        "id": "ISL6bmS9xl9g",
        "outputId": "737de091-3f3b-47e1-e6c1-7e6217d475d3"
      },
      "execution_count": 16,
      "outputs": [
        {
          "output_type": "stream",
          "name": "stdout",
          "text": [
            "data contient 48887 lignes.\n",
            "Positive_reviews contient 41024 lignes.\n",
            "Negative_reviews contient 7863 lignes.\n"
          ]
        }
      ]
    },
    {
      "cell_type": "markdown",
      "source": [
        "**printing the new distribution of the data**"
      ],
      "metadata": {
        "id": "sfD_QN9CtCkF"
      }
    },
    {
      "cell_type": "code",
      "source": [
        "pie(data,\"sentiment\")"
      ],
      "metadata": {
        "colab": {
          "base_uri": "https://localhost:8080/",
          "height": 297
        },
        "id": "Qxc3A0_DyACU",
        "outputId": "731ec6e9-918c-4246-8047-30e553e5bc16"
      },
      "execution_count": 17,
      "outputs": [
        {
          "output_type": "display_data",
          "data": {
            "text/plain": [
              "<Figure size 432x288 with 1 Axes>"
            ],
            "image/png": "[encoded data removed]"
          },
          "metadata": {}
        }
      ]
    },
    {
      "cell_type": "markdown",
      "source": [
        "**printing the new distribution in histogramme**"
      ],
      "metadata": {
        "id": "2EV8czwetXVv"
      }
    },
    {
      "cell_type": "code",
      "source": [
        "histo(data,\"sentiment\")"
      ],
      "metadata": {
        "colab": {
          "base_uri": "https://localhost:8080/",
          "height": 497
        },
        "id": "OrFZzbW4x_-6",
        "outputId": "9cd56d66-053e-499b-f2f5-6dbba23ca7be"
      },
      "execution_count": 18,
      "outputs": [
        {
          "output_type": "display_data",
          "data": {
            "text/plain": [
              "<Figure size 720x576 with 1 Axes>"
            ],
            "image/png": "[encoded data removed]"
          },
          "metadata": {
            "needs_background": "light"
          }
        }
      ]
    },
    {
      "cell_type": "markdown",
      "source": [
        "**function to count the length of reviews**\n",
        "\n"
      ],
      "metadata": {
        "id": "aQPXSoQQtxC-"
      }
    },
    {
      "cell_type": "code",
      "source": [
        "def compte_mots(phrase):\n",
        "    return len(str(phrase).split())\n",
        "\n",
        "data[\"len_review\"] = data[\"review\"].apply(compte_mots)\n",
        "positive_reviews['len_review'] = positive_reviews[\"review\"].apply(compte_mots)\n",
        "negative_reviews['len_review'] = negative_reviews[\"review\"].apply(compte_mots)"
      ],
      "metadata": {
        "id": "HdnqI69vx_7F"
      },
      "execution_count": 19,
      "outputs": []
    },
    {
      "cell_type": "markdown",
      "source": [
        "**printing the max  length of the positive and negative reviews**"
      ],
      "metadata": {
        "id": "s0gPiiV7uE5T"
      }
    },
    {
      "cell_type": "code",
      "source": [
        "print(\"Le maximum de mots utilisé dans les reviews positives est :\", max(positive_reviews.len_review))\n",
        "print(\"Le moyen de mots utilisé dans les reviews positives est :\", np.mean(positive_reviews.len_review))\n",
        "print(\"-------------------------------------------------------------------------------------------------------\")\n",
        "print(\"Le maximum de mots utilisé dans les reviews négatives est :\", max(negative_reviews.len_review))\n",
        "print(\"Le moyen de mots utilisé dans les reviews négatives est :\", np.mean(negative_reviews.len_review))"
      ],
      "metadata": {
        "colab": {
          "base_uri": "https://localhost:8080/"
        },
        "id": "RUOg19_jx_28",
        "outputId": "f7474d51-e012-4d62-cdef-56b630fa0707"
      },
      "execution_count": 20,
      "outputs": [
        {
          "output_type": "stream",
          "name": "stdout",
          "text": [
            "Le maximum de mots utilisé dans les reviews positives est : 3419\n",
            "Le moyen de mots utilisé dans les reviews positives est : 63.5811232449298\n",
            "-------------------------------------------------------------------------------------------------------\n",
            "Le maximum de mots utilisé dans les reviews négatives est : 1535\n",
            "Le moyen de mots utilisé dans les reviews négatives est : 61.01144601297215\n"
          ]
        }
      ]
    },
    {
      "cell_type": "code",
      "source": [
        "plt.figure(figsize=(10,9))\n",
        "\n",
        "p1=sns.kdeplot(positive_reviews['len_review'], hue = data['sentiment'],  shade=True, color=\"r\")\n",
        "p1=sns.kdeplot(negative_reviews['len_review'], shade=True, color=\"b\")\n",
        "\n",
        "plt.xlim(0, 400)"
      ],
      "metadata": {
        "colab": {
          "base_uri": "https://localhost:8080/",
          "height": 569
        },
        "id": "zoWA0F5Ox_yo",
        "outputId": "f153574a-7533-46e6-de80-a0946a9e523d"
      },
      "execution_count": 21,
      "outputs": [
        {
          "output_type": "execute_result",
          "data": {
            "text/plain": [
              "(0.0, 400.0)"
            ]
          },
          "metadata": {},
          "execution_count": 21
        },
        {
          "output_type": "display_data",
          "data": {
            "text/plain": [
              "<Figure size 720x648 with 1 Axes>"
            ],
            "image/png": "[encoded data removed]"
          },
          "metadata": {
            "needs_background": "light"
          }
        }
      ]
    },
    {
      "cell_type": "markdown",
      "source": [
        "**Deleting unused fields**"
      ],
      "metadata": {
        "id": "JizLU3m4vwvB"
      }
    },
    {
      "cell_type": "code",
      "source": [
        "data.drop(['rating', 'Unnamed: 1', 'Unnamed: 2', 'Unnamed: 3'], axis = 1, inplace = True)\n",
        "data.head(3)"
      ],
      "metadata": {
        "colab": {
          "base_uri": "https://localhost:8080/",
          "height": 143
        },
        "id": "3sSAEvcKx_vr",
        "outputId": "a60d4b88-2b79-48b1-991a-ee9902d2d77a"
      },
      "execution_count": 22,
      "outputs": [
        {
          "output_type": "execute_result",
          "data": {
            "text/plain": [
              "                                              review  sentiment  len_review\n",
              "0  عزازيل الذي صنعناه ،الكامن في أنفسنا يذكرني يو...          1         106\n",
              "1  من أمتع ما قرأت من روايات بلا شك. وحول الشك تد...          1          17\n",
              "2  رواية تتخذ من التاريخ ،جوًا لها اختار المؤلف ف...          1          32"
            ],
            "text/html": [
              "\n",
              "  <div id=\"df-4a9c2f70-0848-4e97-9dc0-71c91b51be27\">\n",
              "    <div class=\"colab-df-container\">\n",
              "      <div>\n",
              "<style scoped>\n",
              "    .dataframe tbody tr th:only-of-type {\n",
              "        vertical-align: middle;\n",
              "    }\n",
              "\n",
              "    .dataframe tbody tr th {\n",
              "        vertical-align: top;\n",
              "    }\n",
              "\n",
              "    .dataframe thead th {\n",
              "        text-align: right;\n",
              "    }\n",
              "</style>\n",
              "<table border=\"1\" class=\"dataframe\">\n",
              "  <thead>\n",
              "    <tr style=\"text-align: right;\">\n",
              "      <th></th>\n",
              "      <th>review</th>\n",
              "      <th>sentiment</th>\n",
              "      <th>len_review</th>\n",
              "    </tr>\n",
              "  </thead>\n",
              "  <tbody>\n",
              "    <tr>\n",
              "      <th>0</th>\n",
              "      <td>عزازيل الذي صنعناه ،الكامن في أنفسنا يذكرني يو...</td>\n",
              "      <td>1</td>\n",
              "      <td>106</td>\n",
              "    </tr>\n",
              "    <tr>\n",
              "      <th>1</th>\n",
              "      <td>من أمتع ما قرأت من روايات بلا شك. وحول الشك تد...</td>\n",
              "      <td>1</td>\n",
              "      <td>17</td>\n",
              "    </tr>\n",
              "    <tr>\n",
              "      <th>2</th>\n",
              "      <td>رواية تتخذ من التاريخ ،جوًا لها اختار المؤلف ف...</td>\n",
              "      <td>1</td>\n",
              "      <td>32</td>\n",
              "    </tr>\n",
              "  </tbody>\n",
              "</table>\n",
              "</div>\n",
              "      <button class=\"colab-df-convert\" onclick=\"convertToInteractive('df-4a9c2f70-0848-4e97-9dc0-71c91b51be27')\"\n",
              "              title=\"Convert this dataframe to an interactive table.\"\n",
              "              style=\"display:none;\">\n",
              "        \n",
              "  <svg xmlns=\"http://www.w3.org/2000/svg\" height=\"24px\"viewBox=\"0 0 24 24\"\n",
              "       width=\"24px\">\n",
              "    <path d=\"M0 0h24v24H0V0z\" fill=\"none\"/>\n",
              "    <path d=\"M18.56 5.44l.94 2.06.94-2.06 2.06-.94-2.06-.94-.94-2.06-.94 2.06-2.06.94zm-11 1L8.5 8.5l.94-2.06 2.06-.94-2.06-.94L8.5 2.5l-.94 2.06-2.06.94zm10 10l.94 2.06.94-2.06 2.06-.94-2.06-.94-.94-2.06-.94 2.06-2.06.94z\"/><path d=\"M17.41 7.96l-1.37-1.37c-.4-.4-.92-.59-1.43-.59-.52 0-1.04.2-1.43.59L10.3 9.45l-7.72 7.72c-.78.78-.78 2.05 0 2.83L4 21.41c.39.39.9.59 1.41.59.51 0 1.02-.2 1.41-.59l7.78-7.78 2.81-2.81c.8-.78.8-2.07 0-2.86zM5.41 20L4 18.59l7.72-7.72 1.47 1.35L5.41 20z\"/>\n",
              "  </svg>\n",
              "      </button>\n",
              "      \n",
              "  <style>\n",
              "    .colab-df-container {\n",
              "      display:flex;\n",
              "      flex-wrap:wrap;\n",
              "      gap: 12px;\n",
              "    }\n",
              "\n",
              "    .colab-df-convert {\n",
              "      background-color: #E8F0FE;\n",
              "      border: none;\n",
              "      border-radius: 50%;\n",
              "      cursor: pointer;\n",
              "      display: none;\n",
              "      fill: #1967D2;\n",
              "      height: 32px;\n",
              "      padding: 0 0 0 0;\n",
              "      width: 32px;\n",
              "    }\n",
              "\n",
              "    .colab-df-convert:hover {\n",
              "      background-color: #E2EBFA;\n",
              "      box-shadow: 0px 1px 2px rgba(60, 64, 67, 0.3), 0px 1px 3px 1px rgba(60, 64, 67, 0.15);\n",
              "      fill: #174EA6;\n",
              "    }\n",
              "\n",
              "    [theme=dark] .colab-df-convert {\n",
              "      background-color: #3B4455;\n",
              "      fill: #D2E3FC;\n",
              "    }\n",
              "\n",
              "    [theme=dark] .colab-df-convert:hover {\n",
              "      background-color: #434B5C;\n",
              "      box-shadow: 0px 1px 3px 1px rgba(0, 0, 0, 0.15);\n",
              "      filter: drop-shadow(0px 1px 2px rgba(0, 0, 0, 0.3));\n",
              "      fill: #FFFFFF;\n",
              "    }\n",
              "  </style>\n",
              "\n",
              "      <script>\n",
              "        const buttonEl =\n",
              "          document.querySelector('#df-4a9c2f70-0848-4e97-9dc0-71c91b51be27 button.colab-df-convert');\n",
              "        buttonEl.style.display =\n",
              "          google.colab.kernel.accessAllowed ? 'block' : 'none';\n",
              "\n",
              "        async function convertToInteractive(key) {\n",
              "          const element = document.querySelector('#df-4a9c2f70-0848-4e97-9dc0-71c91b51be27');\n",
              "          const dataTable =\n",
              "            await google.colab.kernel.invokeFunction('convertToInteractive',\n",
              "                                                     [key], {});\n",
              "          if (!dataTable) return;\n",
              "\n",
              "          const docLinkHtml = 'Like what you see? Visit the ' +\n",
              "            '<a target=\"_blank\" href=https://colab.research.google.com/notebooks/data_table.ipynb>data table notebook</a>'\n",
              "            + ' to learn more about interactive tables.';\n",
              "          element.innerHTML = '';\n",
              "          dataTable['output_type'] = 'display_data';\n",
              "          await google.colab.output.renderOutput(dataTable, element);\n",
              "          const docLink = document.createElement('div');\n",
              "          docLink.innerHTML = docLinkHtml;\n",
              "          element.appendChild(docLink);\n",
              "        }\n",
              "      </script>\n",
              "    </div>\n",
              "  </div>\n",
              "  "
            ]
          },
          "metadata": {},
          "execution_count": 22
        }
      ]
    },
    {
      "cell_type": "code",
      "source": [
        "df = data"
      ],
      "metadata": {
        "id": "EG7TlnWAxl4p"
      },
      "execution_count": 23,
      "outputs": []
    },
    {
      "cell_type": "markdown",
      "source": [
        "**the function of the preprocessing**"
      ],
      "metadata": {
        "id": "zt-HChYHv6oR"
      }
    },
    {
      "cell_type": "code",
      "source": [
        "def preprocessing(x):\n",
        "    x = re.sub('@[^\\s]+', ' ', x)\n",
        "    x = re.sub('((www\\.[^\\s]+)|(https?://[^\\s]+))',' ',x)\n",
        "    \n",
        "    emoji_pattern = re.compile(\"[\"\n",
        "                               u\"\\U0001F600-\\U0001F64F\"  # emoticons\n",
        "                               u\"\\U0001F300-\\U0001F5FF\"  # symbols & pictographs\n",
        "                               u\"\\U0001F680-\\U0001F6FF\"  # transport & map symbols\n",
        "                               u\"\\U0001F1E0-\\U0001F1FF\"  # flags (iOS)\n",
        "                               u\"\\U00002500-\\U00002BEF\"  # chinese char\n",
        "                               u\"\\U00002702-\\U000027B0\"\n",
        "                               u\"\\U00002702-\\U000027B0\"\n",
        "                               u\"\\U000024C2-\\U0001F251\"\n",
        "                               u\"\\U0001f926-\\U0001f937\"\n",
        "                               u\"\\U00010000-\\U0010ffff\"\n",
        "                               u\"\\u2640-\\u2642\"\n",
        "                               u\"\\u2600-\\u2B55\"\n",
        "                               u\"\\u200d\"\n",
        "                               u\"\\u23cf\"\n",
        "                               u\"\\u23e9\"\n",
        "                               u\"\\u231a\"\n",
        "                               u\"\\ufe0f\"  # dingbats\n",
        "                               u\"\\u3030\"\"]+\", flags=re.UNICODE)\n",
        "    emoji_pattern.sub(r'', x)\n",
        "    \n",
        "    ar_punctuations = '''`÷×؛<>_()*&^%][ـ،/:\"؟.,'{}~¦+|!”…“–ـ#'''\n",
        "    en_punctuations = string.punctuation\n",
        "    punctuations = ar_punctuations + en_punctuations\n",
        "    x = x.translate(str.maketrans('', '', punctuations))\n",
        " \n",
        "    arabic_diacritics = re.compile(\"\"\" ّ    | # Tashdid\n",
        "                             َ    | # Fatha\n",
        "                             ً    | # Tanwin Fath\n",
        "                             ُ    | # Damma\n",
        "                             ٌ    | # Tanwin Damm\n",
        "                             ِ    | # Kasra\n",
        "                             ٍ    | # Tanwin Kasr\n",
        "                             ْ    | # Sukun\n",
        "                             ـ     # Tatwil/Kashida\n",
        "                         \"\"\", re.VERBOSE)\n",
        "    x = re.sub(arabic_diacritics, '', str(x)) \n",
        "    \n",
        "#     x = re.sub(\"[إأآا]\", \"ا\", x)\n",
        "#     x = re.sub(\"ى\", \"ي\", x)\n",
        "#     x = re.sub(\"ة\", \"ه\", x)\n",
        "#     x = re.sub(\"گ\", \"ك\", x)\n",
        "#     x = re.sub(r'(.)\\1+', r'\\1', x)\n",
        "    \n",
        "    return x\n",
        "\n"
      ],
      "metadata": {
        "id": "S06YfDBayo2C"
      },
      "execution_count": 24,
      "outputs": []
    },
    {
      "cell_type": "markdown",
      "source": [
        "**preprocessing the reviews and printing the time spent**"
      ],
      "metadata": {
        "id": "-TA69444wCTs"
      }
    },
    {
      "cell_type": "code",
      "source": [
        "%%time\n",
        "data[\"Clean_reviews\"] = data.review.apply(lambda x: preprocessing(str(x)))"
      ],
      "metadata": {
        "colab": {
          "base_uri": "https://localhost:8080/"
        },
        "id": "dCa_gwMYyovM",
        "outputId": "cddded33-7cab-4fd4-ac1b-c3226f1e61c8"
      },
      "execution_count": 25,
      "outputs": [
        {
          "output_type": "stream",
          "name": "stdout",
          "text": [
            "CPU times: user 2.94 s, sys: 20.7 ms, total: 2.96 s\n",
            "Wall time: 2.97 s\n"
          ]
        }
      ]
    },
    {
      "cell_type": "markdown",
      "source": [
        "**printing a review before and after preprocessing**"
      ],
      "metadata": {
        "id": "EYqZdx-hwMJc"
      }
    },
    {
      "cell_type": "code",
      "source": [
        "print('- Avant le prétraitement \\n\\n',data[\"review\"][4])\n",
        "print(\"\\n-----------------------------------------------\\n\")\n",
        "print('- Après le prétraitement \\n\\n',data[\"Clean_reviews\"][4])"
      ],
      "metadata": {
        "colab": {
          "base_uri": "https://localhost:8080/"
        },
        "id": "uYBIFXA_yorI",
        "outputId": "bd918077-611f-4f4b-8040-b664cc2ea4c8"
      },
      "execution_count": 26,
      "outputs": [
        {
          "output_type": "stream",
          "name": "stdout",
          "text": [
            "- Avant le prétraitement \n",
            "\n",
            " عزازيل هو اسم رواية يوسف زيدان الثانية و التي صَدرت مؤخراً عن دار الشروق. جذبني الاسم في البداية لقراءتها. \"عزازيل\" هو أحد أسماء الشيطان في التقليد اليهودي - المسيحي، لهذا تصورت أن الرواية تتحدث عن الشيطان أو عن عالم ما وراء الطبيعة. لكن الرواية بَدت أكثر متعةً و تشويقاً و - أيضاً - عُمقاً! ينسج المؤلف خيوطه المحكمة من أول صفحة. و يقدّم صفحات الرواية كترجمة لرقائق وُجدت مكتوبة منذ القرن الرابع. و يختلق قصةً عن المترجم كي يؤصل للجو التاريخي للرواية. ثم ينتقل الحديث للراهب \"هيبا\" المصري الذي يكتب الرواية على لسانه (و إمعاناً في اتقان الحبكة، فإن الهوامش تحوي تعليقات للناسخ العربي و للمترجم أحياناً). هكذا يدخل القاريء في جوِ تاريخي محكم شبه - حقيقي، خاصةً مع ظهور الشخصيات الأخرى للرواية و التي هي شخصيات تاريخية حقيقيّة. فباستثاء \"هيبا\" و محيطه، فإن جميع شخصيات الرواية الأساسية حقيقية: \"نسطور\" أسقف القسطنطينية، \"كيرلس\" أسقف الأسكندرية، \"هيباتيا\" العالمة و الفيلسوفة. من روعة الرواية أن جعلت من هؤلاء الشخصيات - الذين هم صفحات تاريخية صامتة - أبطالاً من لحمٍ و دم، يتحاورون و يتناقشون ، يحبّون و يكرهون و يتفاعل معهم القاريء! يزداد الجوُ واقعية بالأوصاف الجغرافي العبقرية للأماكن. فالمكان في رواية \"عزازيل\" يلعب دوراً أساسياً و فاعلاً في الأحداث. فمن خلال رحلة \"هيبا\" - التي تدور حولها الأحداث - و ذكرياته عن رحلات سابقة، تتبين الشخصيات و المواقف قليلاً قليلاً. و قد أثبت المؤلف موهبة حقيقيّة في وصف الأماكن للقاريء، كذلك فإن امتزاج الأحداث الواقعي بأحداث الرواية جعل الأماكن أحياناً تعبر الزمان لتتجسد أمام القارئ الذي يعرف تفاصيل هذه الأماكن جيداً (الاسكندرية كمثال). تشعر أثناء القراءة أن المؤلف يكتب \"على مهل\"، فالتفاصيل لها قُدسيتها لديه. ربما يتوقف عند فستان \"مرتا\" مثلاً لصفحتين، لكنك مع ذلك لا تشعر تكلفاً و لا مللاً. فالمؤلف متمكن للغاية من اللغة (و محيط أيضاً باليونانية و القبطية و السريانية باتقان) بقدر ينقل إليك الصورة بحيويتها و صفائها كأنك تراها. كذلك فإن إتقانه للغات المختلفة جعل القاريء الذي لا يألف التعبيرات الكنسية أو التاريخية لا يفقد متابعته للرواية. فهو يقدم الألفاظ الغريبة في سياق واضح أو ملحقة بشرح غير خارج عن هذا السياق. ليست الحوادث هي أهم ما في الرواية، بل تفاعل الشخصيات معها. فالحوار اللاهوتي القائم بين \"كيرلس\" و \"نسطور\" مثلاً ليس مهماً إلا بقدر ما يلقي الضوء على حيرة \"هيبا\" و شكوكه و تساؤلاته الداخلية عن الله و الكون من حوله. ربما لهذا هي ليست رواية تاريخية بقدر ما هي داخلة في عمق الأسئلة الإنسانية عن الإيمان و الحياة و الحب. و انطلاقاً من التاريخ، يأخذك الكاتب في رحلة شديدة الغنى و العمق بين الفلسفة و الإيمان، الغريزة و التحرر من الجسد، الغيرة و الحب، الرحيل و البقاء. ربما لهذا تغافل المؤلف بعض التدقيق في التفاصيل اللاهوتية و التاريخية أحياناً.لا يمكن أن يكون هذا التغافل على سبيل الخطأ، فالمؤلف ملمّ بشكل ممتاز بالسياق التاريخي و اللاهوتي للرواية؛ ربما لهذا يبدو أن بعض التفاصيل قد أسقطت أو عُدّلت كي تناسب السياق الدرامي. و هذا أمرُ مقبول على اعتبار أن الرواية ليست لاهوتية و لا تاريخية، بل أكثر عُمقاً و شمولاً. لكن الرواية - و إن كانت في المطلق عن بحث الإنسان و تساؤلاته الوجودية - فإنها اتخذت من التاريخ و من اللاهوت جسداً. أظن - و هذا رأيي - أن الدقة لم تكن لتتعارض مع السرد البديع. إن شرح \"نسطور\" مثلاً لوجهة نظره عن طبيعة المسيح بدا أقرب للاهوت الإسلامي عن لاهوت \"نسطور\". و الواقع أن \"نسطور\" لم يكن تنزيهياً بالقدر الذي صُوّر به بعد ذلك - في اللاهوت الرسمي و اللاهوت النسطوري و بالتالي في الرواية - بقدر ما كان عقلانياً. فإن تصوره عن اتحاد اللاهوت بالناسوت في شخص يسوع المسيح كان يصطدم بمشكلة الزمن - و تحديداً بسني حياة يسوع المبكرة و بموته - من هنا فإنه قدّم فكرة \"المصاحبة\" التي تقول بحلول اللاهوت في جسد \"الإنسان\" يسوع منذ لحظة العماد و حتى الموت. لم يكن \"نسطور\" ينطلق من مبدأ تنزيه الله عن الاتحاد بالإنسان كما بدا بالرواية (و هو التبرير الذي يقبله القاريء المسلم بسهولة و يتعاطف معه)، بقدر ما كان يحاول إيجاد مدخلاً عقلانياً لهذا الاتحاد الذي اتفق مع \"كيرلس\" بوجوبه و وجوده. كما أن لاهوت \"كيرلس\" لم يكُن أمراً مستحدثاً كما صوّر الكاتب. بل أن تعبيرات \"كيرلس\" عن \"طبيعة واحدة للكلمة المتجسد\" مازالت تعتبر - إجماعاً و على اختلاف الطوائف - من أساسيات اللاهوت المسيحي. أما رسائله \"ضد نسطور\" فهي من أدق ما يمكن قراءته في شرح اللاهوت المسيحي. إن \"كيرلس\" يبدو في الرواية كمهووس بالزعامة و متاجر بالدين. و الواقع أنه بالطبع ملومُ في حادثة مقتل \"هيباتيا\"، لكنه لا يمكن الحكم عليه من منطلق حادثة واحدة و قياس تصرفاته كلها عليها. في الرواية هو يمثل السلطة الدينية الرسمية - عامةً - و إجاباتها الجاهزة؛ لكنه في المقابل قد ظُلم - كشخصٍ تاريخي - في تقديمه بهذا الشكل. على هذا المثال قُدمت كنيسة الاسكندرية بشكل أقرب للهوس الديني و الفاشية. يهدف المؤلف لتصوير التدين الرسمي و الشعبي و هذا مفهوم، لكن كنيسة الاسكندرية لم تعرف أبداً في تاريخها \"جماعة محبي الآلام\" التي تم الإشارة إليها أكثر من مرة في الرواية! كما أن مقتل \"جورج الكبادوكي\" لم يكن عملاً دينياً بقدر ما كان ثورة شعبية ضد رئاسة دينية مفروضة بقوة السياسة و في ظروف نفي للرئاسة الدينية الشرعية. كذا نظرية موت \"آريوس\" مسموماً و إن كانت تعطي مصداقية للرواية فإن حولها علامات استفهام بما لا يجوز معه تقديمها مرتين كأحد المسلّمات! و بعض المسلّمات المذكورة بالرواية غير حقيقية أصلاً. \"طاطيان\" لم يكن وثنياً بل ظل مسيحياً حتى موت \"يوستين الشهيد\" ثم تحول للغنوسية. \"قسطنطين\" لم يعقد مجمعاً لحرق الأناجيل غير القانونية و لم يمنع تداولها.، و لم يشكّل لجنة للتفتيش عنها في البيوت و الكنائس! \"يوحنا الأنطاكي\" تخلى بالفعل عن \"نسطور\" و وقع وثيقةً للاتحاد مع \"كيرلس\". الأقنوم ليس هو الطبيعة، و \"كيرلس\" كان يكتب باليونانية و ليس بالقبطية . على أن هذه التفاصيل لم تفقد الرواية متعتها و عمقها؛ هي في مجملها رائعة. لغة متقنة، تصوير عبقري، جو تاريخي محكم، و أسئلة شائكة ترحل بالقاريء - مع \"هيبا\" الراهب - بين الاسكندرية و أنطاكية؛ و الأهم أنها ترحل به داخل ذاته!\n",
            "\n",
            "-----------------------------------------------\n",
            "\n",
            "- Après le prétraitement \n",
            "\n",
            " عزازيل هو اسم رواية يوسف زيدان الثانية و التي صدرت مؤخرا عن دار الشروق جذبني الاسم في البداية لقراءتها عزازيل هو أحد أسماء الشيطان في التقليد اليهودي  المسيحي لهذا تصورت أن الرواية تتحدث عن الشيطان أو عن عالم ما وراء الطبيعة لكن الرواية بدت أكثر متعة و تشويقا و  أيضا  عمقا ينسج المؤلف خيوطه المحكمة من أول صفحة و يقدم صفحات الرواية كترجمة لرقائق وجدت مكتوبة منذ القرن الرابع و يختلق قصة عن المترجم كي يؤصل للجو التاريخي للرواية ثم ينتقل الحديث للراهب هيبا المصري الذي يكتب الرواية على لسانه و إمعانا في اتقان الحبكة فإن الهوامش تحوي تعليقات للناسخ العربي و للمترجم أحيانا هكذا يدخل القاريء في جو تاريخي محكم شبه  حقيقي خاصة مع ظهور الشخصيات الأخرى للرواية و التي هي شخصيات تاريخية حقيقية فباستثاء هيبا و محيطه فإن جميع شخصيات الرواية الأساسية حقيقية نسطور أسقف القسطنطينية كيرلس أسقف الأسكندرية هيباتيا العالمة و الفيلسوفة من روعة الرواية أن جعلت من هؤلاء الشخصيات  الذين هم صفحات تاريخية صامتة  أبطالا من لحم و دم يتحاورون و يتناقشون  يحبون و يكرهون و يتفاعل معهم القاريء يزداد الجو واقعية بالأوصاف الجغرافي العبقرية للأماكن فالمكان في رواية عزازيل يلعب دورا أساسيا و فاعلا في الأحداث فمن خلال رحلة هيبا  التي تدور حولها الأحداث  و ذكرياته عن رحلات سابقة تتبين الشخصيات و المواقف قليلا قليلا و قد أثبت المؤلف موهبة حقيقية في وصف الأماكن للقاريء كذلك فإن امتزاج الأحداث الواقعي بأحداث الرواية جعل الأماكن أحيانا تعبر الزمان لتتجسد أمام القارئ الذي يعرف تفاصيل هذه الأماكن جيدا الاسكندرية كمثال تشعر أثناء القراءة أن المؤلف يكتب على مهل فالتفاصيل لها قدسيتها لديه ربما يتوقف عند فستان مرتا مثلا لصفحتين لكنك مع ذلك لا تشعر تكلفا و لا مللا فالمؤلف متمكن للغاية من اللغة و محيط أيضا باليونانية و القبطية و السريانية باتقان بقدر ينقل إليك الصورة بحيويتها و صفائها كأنك تراها كذلك فإن إتقانه للغات المختلفة جعل القاريء الذي لا يألف التعبيرات الكنسية أو التاريخية لا يفقد متابعته للرواية فهو يقدم الألفاظ الغريبة في سياق واضح أو ملحقة بشرح غير خارج عن هذا السياق ليست الحوادث هي أهم ما في الرواية بل تفاعل الشخصيات معها فالحوار اللاهوتي القائم بين كيرلس و نسطور مثلا ليس مهما إلا بقدر ما يلقي الضوء على حيرة هيبا و شكوكه و تساؤلاته الداخلية عن الله و الكون من حوله ربما لهذا هي ليست رواية تاريخية بقدر ما هي داخلة في عمق الأسئلة الإنسانية عن الإيمان و الحياة و الحب و انطلاقا من التاريخ يأخذك الكاتب في رحلة شديدة الغنى و العمق بين الفلسفة و الإيمان الغريزة و التحرر من الجسد الغيرة و الحب الرحيل و البقاء ربما لهذا تغافل المؤلف بعض التدقيق في التفاصيل اللاهوتية و التاريخية أحيانالا يمكن أن يكون هذا التغافل على سبيل الخطأ فالمؤلف ملم بشكل ممتاز بالسياق التاريخي و اللاهوتي للرواية ربما لهذا يبدو أن بعض التفاصيل قد أسقطت أو عدلت كي تناسب السياق الدرامي و هذا أمر مقبول على اعتبار أن الرواية ليست لاهوتية و لا تاريخية بل أكثر عمقا و شمولا لكن الرواية  و إن كانت في المطلق عن بحث الإنسان و تساؤلاته الوجودية  فإنها اتخذت من التاريخ و من اللاهوت جسدا أظن  و هذا رأيي  أن الدقة لم تكن لتتعارض مع السرد البديع إن شرح نسطور مثلا لوجهة نظره عن طبيعة المسيح بدا أقرب للاهوت الإسلامي عن لاهوت نسطور و الواقع أن نسطور لم يكن تنزيهيا بالقدر الذي صور به بعد ذلك  في اللاهوت الرسمي و اللاهوت النسطوري و بالتالي في الرواية  بقدر ما كان عقلانيا فإن تصوره عن اتحاد اللاهوت بالناسوت في شخص يسوع المسيح كان يصطدم بمشكلة الزمن  و تحديدا بسني حياة يسوع المبكرة و بموته  من هنا فإنه قدم فكرة المصاحبة التي تقول بحلول اللاهوت في جسد الإنسان يسوع منذ لحظة العماد و حتى الموت لم يكن نسطور ينطلق من مبدأ تنزيه الله عن الاتحاد بالإنسان كما بدا بالرواية و هو التبرير الذي يقبله القاريء المسلم بسهولة و يتعاطف معه بقدر ما كان يحاول إيجاد مدخلا عقلانيا لهذا الاتحاد الذي اتفق مع كيرلس بوجوبه و وجوده كما أن لاهوت كيرلس لم يكن أمرا مستحدثا كما صور الكاتب بل أن تعبيرات كيرلس عن طبيعة واحدة للكلمة المتجسد مازالت تعتبر  إجماعا و على اختلاف الطوائف  من أساسيات اللاهوت المسيحي أما رسائله ضد نسطور فهي من أدق ما يمكن قراءته في شرح اللاهوت المسيحي إن كيرلس يبدو في الرواية كمهووس بالزعامة و متاجر بالدين و الواقع أنه بالطبع ملوم في حادثة مقتل هيباتيا لكنه لا يمكن الحكم عليه من منطلق حادثة واحدة و قياس تصرفاته كلها عليها في الرواية هو يمثل السلطة الدينية الرسمية  عامة  و إجاباتها الجاهزة لكنه في المقابل قد ظلم  كشخص تاريخي  في تقديمه بهذا الشكل على هذا المثال قدمت كنيسة الاسكندرية بشكل أقرب للهوس الديني و الفاشية يهدف المؤلف لتصوير التدين الرسمي و الشعبي و هذا مفهوم لكن كنيسة الاسكندرية لم تعرف أبدا في تاريخها جماعة محبي الآلام التي تم الإشارة إليها أكثر من مرة في الرواية كما أن مقتل جورج الكبادوكي لم يكن عملا دينيا بقدر ما كان ثورة شعبية ضد رئاسة دينية مفروضة بقوة السياسة و في ظروف نفي للرئاسة الدينية الشرعية كذا نظرية موت آريوس مسموما و إن كانت تعطي مصداقية للرواية فإن حولها علامات استفهام بما لا يجوز معه تقديمها مرتين كأحد المسلمات و بعض المسلمات المذكورة بالرواية غير حقيقية أصلا طاطيان لم يكن وثنيا بل ظل مسيحيا حتى موت يوستين الشهيد ثم تحول للغنوسية قسطنطين لم يعقد مجمعا لحرق الأناجيل غير القانونية و لم يمنع تداولها و لم يشكل لجنة للتفتيش عنها في البيوت و الكنائس يوحنا الأنطاكي تخلى بالفعل عن نسطور و وقع وثيقة للاتحاد مع كيرلس الأقنوم ليس هو الطبيعة و كيرلس كان يكتب باليونانية و ليس بالقبطية  على أن هذه التفاصيل لم تفقد الرواية متعتها و عمقها هي في مجملها رائعة لغة متقنة تصوير عبقري جو تاريخي محكم و أسئلة شائكة ترحل بالقاريء  مع هيبا الراهب  بين الاسكندرية و أنطاكية و الأهم أنها ترحل به داخل ذاته\n"
          ]
        }
      ]
    },
    {
      "cell_type": "markdown",
      "source": [
        "**Saving the cleaned data in a csv file**"
      ],
      "metadata": {
        "id": "3Vzp8SzAwVT0"
      }
    },
    {
      "cell_type": "code",
      "source": [
        "data.to_csv(\"cleaned_labr.csv\")"
      ],
      "metadata": {
        "id": "QRxgl3Mdyom2"
      },
      "execution_count": 27,
      "outputs": []
    },
    {
      "cell_type": "markdown",
      "source": [
        "**asigning the reviews and classes to a new variables**\n",
        "\n",
        "\n"
      ],
      "metadata": {
        "id": "-gaLBhEqxFm4"
      }
    },
    {
      "cell_type": "code",
      "source": [
        "X = data.Clean_reviews\n",
        "y = data.sentiment"
      ],
      "metadata": {
        "id": "WpJPNTiJyojS"
      },
      "execution_count": 28,
      "outputs": []
    },
    {
      "cell_type": "markdown",
      "source": [
        "**spliting the data to train and test set**\n",
        "\n"
      ],
      "metadata": {
        "id": "P4WSBjAMykJ9"
      }
    },
    {
      "cell_type": "code",
      "source": [
        "X_train, X_test, y_train, y_test = train_test_split(X, \n",
        "                                                    y, \n",
        "                                                    test_size = 0.20, \n",
        "                                                    random_state = 42)"
      ],
      "metadata": {
        "id": "bpZ_HWVHyoe7"
      },
      "execution_count": 29,
      "outputs": []
    },
    {
      "cell_type": "markdown",
      "source": [
        "**printing the number of the train set and the test set**"
      ],
      "metadata": {
        "id": "Y4HZcNovzTam"
      }
    },
    {
      "cell_type": "code",
      "source": [
        "print('Train set', X_train.shape)\n",
        "print('Test set', X_test.shape)"
      ],
      "metadata": {
        "colab": {
          "base_uri": "https://localhost:8080/"
        },
        "id": "pc1SqlVHyoaS",
        "outputId": "97a5411f-a842-4392-aa91-68d46916f335"
      },
      "execution_count": 30,
      "outputs": [
        {
          "output_type": "stream",
          "name": "stdout",
          "text": [
            "Train set (39109,)\n",
            "Test set (9778,)\n"
          ]
        }
      ]
    },
    {
      "cell_type": "code",
      "source": [
        "from google.colab import drive\n",
        "drive.mount('/content/gdrive')"
      ],
      "metadata": {
        "colab": {
          "base_uri": "https://localhost:8080/"
        },
        "id": "15X3aM6qgDm3",
        "outputId": "46d18a3d-76ea-4718-a513-9f729dc957f9"
      },
      "execution_count": 31,
      "outputs": [
        {
          "output_type": "stream",
          "name": "stdout",
          "text": [
            "Drive already mounted at /content/gdrive; to attempt to forcibly remount, call drive.mount(\"/content/gdrive\", force_remount=True).\n"
          ]
        }
      ]
    },
    {
      "cell_type": "markdown",
      "source": [
        "**Uploading the fsttext pretrained word embedding with 150 dimension**"
      ],
      "metadata": {
        "id": "cI8tRb3Nz5aR"
      }
    },
    {
      "cell_type": "code",
      "source": [
        "%%time\n",
        "target_word_vec = KeyedVectors.load_word2vec_format(\"/content/gdrive/MyDrive/thesis/cc.ar.150.vec\", binary = False)"
      ],
      "metadata": {
        "id": "sJ3CP3XulykU",
        "colab": {
          "base_uri": "https://localhost:8080/"
        },
        "outputId": "9710e2b0-0115-4c8a-eddf-82cfaa15f387"
      },
      "execution_count": 32,
      "outputs": [
        {
          "output_type": "stream",
          "name": "stdout",
          "text": [
            "CPU times: user 2min 32s, sys: 3.8 s, total: 2min 36s\n",
            "Wall time: 2min 44s\n"
          ]
        }
      ]
    },
    {
      "cell_type": "markdown",
      "source": [
        "**tokenization of the reviews**"
      ],
      "metadata": {
        "id": "-pQIBI1c0OBw"
      }
    },
    {
      "cell_type": "code",
      "source": [
        "%%time\n",
        "tokenizer = Tokenizer()\n",
        "tokenizer.fit_on_texts(X_train)"
      ],
      "metadata": {
        "id": "fXkSR3KGyoNv",
        "colab": {
          "base_uri": "https://localhost:8080/"
        },
        "outputId": "3161e5ab-6da5-4d7f-bcc9-1f3abc128a3c"
      },
      "execution_count": 33,
      "outputs": [
        {
          "output_type": "stream",
          "name": "stdout",
          "text": [
            "CPU times: user 3.32 s, sys: 55 ms, total: 3.38 s\n",
            "Wall time: 3.38 s\n"
          ]
        }
      ]
    },
    {
      "cell_type": "code",
      "source": [
        "word_index = tokenizer.word_index\n",
        "vocab_size = len(tokenizer.word_index) + 1"
      ],
      "metadata": {
        "id": "L7UW4cKKyoKw"
      },
      "execution_count": 34,
      "outputs": []
    },
    {
      "cell_type": "markdown",
      "source": [
        "**making all reviews of the same length 3456**"
      ],
      "metadata": {
        "id": "N8LmKYq60SX6"
      }
    },
    {
      "cell_type": "code",
      "source": [
        "%%time\n",
        "MAX_SEQUENCE_LENGTH = 3456\n",
        "\n",
        "X_train = pad_sequences(tokenizer.texts_to_sequences(X_train),\n",
        "                        maxlen = MAX_SEQUENCE_LENGTH)\n",
        "X_test = pad_sequences(tokenizer.texts_to_sequences(X_test),\n",
        "                       maxlen = MAX_SEQUENCE_LENGTH)\n",
        "\n",
        "print(\"Training X Shape:\", X_train.shape)\n",
        "print(\"Testing X Shape:\", X_test.shape)"
      ],
      "metadata": {
        "id": "FDcsR7lYxl0Z",
        "colab": {
          "base_uri": "https://localhost:8080/"
        },
        "outputId": "c6006b88-a85d-4e15-afc7-93ab8f049d8c"
      },
      "execution_count": 35,
      "outputs": [
        {
          "output_type": "stream",
          "name": "stdout",
          "text": [
            "Training X Shape: (39109, 3456)\n",
            "Testing X Shape: (9778, 3456)\n",
            "CPU times: user 3.28 s, sys: 370 ms, total: 3.65 s\n",
            "Wall time: 3.63 s\n"
          ]
        }
      ]
    },
    {
      "cell_type": "markdown",
      "source": [
        "**Construction of the embedding matrix**"
      ],
      "metadata": {
        "id": "DiIxpGhc0tkE"
      }
    },
    {
      "cell_type": "code",
      "source": [
        "%%time\n",
        "embedding_matrix = np.zeros((vocab_size, 150))\n",
        "\n",
        "for word, i in word_index.items():\n",
        "    if word in target_word_vec :\n",
        "        embedding_vector = target_word_vec[word]\n",
        "        if embedding_vector is not None:\n",
        "            embedding_matrix[i] = embedding_vector"
      ],
      "metadata": {
        "id": "owcBaGGn2JWz",
        "colab": {
          "base_uri": "https://localhost:8080/"
        },
        "outputId": "8385a756-3b0a-41d2-efcc-fb758ef7c3dd"
      },
      "execution_count": 36,
      "outputs": [
        {
          "output_type": "stream",
          "name": "stdout",
          "text": [
            "CPU times: user 625 ms, sys: 119 ms, total: 744 ms\n",
            "Wall time: 735 ms\n"
          ]
        }
      ]
    },
    {
      "cell_type": "code",
      "source": [
        "embedding_matrix.shape[0] == vocab_size"
      ],
      "metadata": {
        "id": "Eqa9cn0_2JHa",
        "colab": {
          "base_uri": "https://localhost:8080/"
        },
        "outputId": "7196bec9-6878-4e55-83af-a24bc6957533"
      },
      "execution_count": 37,
      "outputs": [
        {
          "output_type": "execute_result",
          "data": {
            "text/plain": [
              "True"
            ]
          },
          "metadata": {},
          "execution_count": 37
        }
      ]
    },
    {
      "cell_type": "markdown",
      "source": [
        "**Creating the model**"
      ],
      "metadata": {
        "id": "LOqaUPgk054V"
      }
    },
    {
      "cell_type": "code",
      "source": [
        "model = Sequential()\n",
        "embedding_layer = Embedding(vocab_size, \n",
        "                            150, \n",
        "                            weights = [embedding_matrix], \n",
        "                            input_length = MAX_SEQUENCE_LENGTH, \n",
        "                            trainable=False)\n",
        "model.add(embedding_layer)\n",
        "model.add(Conv1D(filters=64, kernel_size=2, activation='relu'))\n",
        "model.add(LSTM(64, dropout=0.2, return_sequences=True))\n",
        "model.add(GlobalMaxPooling1D())\n",
        "model.add(Dropout(0.2))\n",
        "model.add(Dense(1, activation='sigmoid'))\n",
        "\n",
        "model.compile(optimizer = Adam(learning_rate=0.001), \n",
        "              loss = 'binary_crossentropy',\n",
        "              metrics = ['accuracy'])\n",
        "\n",
        "es = EarlyStopping(monitor='val_loss', mode='min', verbose=1, patience=5)\n",
        "print(model.summary())"
      ],
      "metadata": {
        "id": "m58bq44X2JDr",
        "colab": {
          "base_uri": "https://localhost:8080/"
        },
        "outputId": "de71d5a0-a94c-4c55-8e99-472765b13ced"
      },
      "execution_count": 38,
      "outputs": [
        {
          "output_type": "stream",
          "name": "stdout",
          "text": [
            "Model: \"sequential\"\n",
            "_________________________________________________________________\n",
            " Layer (type)                Output Shape              Param #   \n",
            "=================================================================\n",
            " embedding (Embedding)       (None, 3456, 150)         30108750  \n",
            "                                                                 \n",
            " conv1d (Conv1D)             (None, 3455, 64)          19264     \n",
            "                                                                 \n",
            " lstm (LSTM)                 (None, 3455, 64)          33024     \n",
            "                                                                 \n",
            " global_max_pooling1d (Globa  (None, 64)               0         \n",
            " lMaxPooling1D)                                                  \n",
            "                                                                 \n",
            " dropout (Dropout)           (None, 64)                0         \n",
            "                                                                 \n",
            " dense (Dense)               (None, 1)                 65        \n",
            "                                                                 \n",
            "=================================================================\n",
            "Total params: 30,161,103\n",
            "Trainable params: 52,353\n",
            "Non-trainable params: 30,108,750\n",
            "_________________________________________________________________\n",
            "None\n"
          ]
        }
      ]
    },
    {
      "cell_type": "markdown",
      "source": [
        "**fitting the model to the dataset**"
      ],
      "metadata": {
        "id": "t87TTNfP0_74"
      }
    },
    {
      "cell_type": "code",
      "source": [
        "history = model.fit(X_train, y_train, validation_split=0.15, batch_size = 128, epochs=20, verbose=1, callbacks=[es])"
      ],
      "metadata": {
        "id": "gAO_1wSM2I_l",
        "colab": {
          "base_uri": "https://localhost:8080/"
        },
        "outputId": "f016d48c-4dbd-4a31-ab07-69048da4d4dd"
      },
      "execution_count": 39,
      "outputs": [
        {
          "output_type": "stream",
          "name": "stdout",
          "text": [
            "Epoch 1/20\n",
            "260/260 [==============================] - 68s 209ms/step - loss: 0.4322 - accuracy: 0.8351 - val_loss: 0.3328 - val_accuracy: 0.8655\n",
            "Epoch 2/20\n",
            "260/260 [==============================] - 54s 206ms/step - loss: 0.3305 - accuracy: 0.8641 - val_loss: 0.3125 - val_accuracy: 0.8732\n",
            "Epoch 3/20\n",
            "260/260 [==============================] - 54s 208ms/step - loss: 0.3063 - accuracy: 0.8768 - val_loss: 0.2883 - val_accuracy: 0.8827\n",
            "Epoch 4/20\n",
            "260/260 [==============================] - 59s 226ms/step - loss: 0.2979 - accuracy: 0.8813 - val_loss: 0.2820 - val_accuracy: 0.8858\n",
            "Epoch 5/20\n",
            "260/260 [==============================] - 54s 208ms/step - loss: 0.2899 - accuracy: 0.8851 - val_loss: 0.2773 - val_accuracy: 0.8875\n",
            "Epoch 6/20\n",
            "260/260 [==============================] - 55s 210ms/step - loss: 0.2801 - accuracy: 0.8888 - val_loss: 0.2678 - val_accuracy: 0.8928\n",
            "Epoch 7/20\n",
            "260/260 [==============================] - 54s 206ms/step - loss: 0.2722 - accuracy: 0.8927 - val_loss: 0.2690 - val_accuracy: 0.8916\n",
            "Epoch 8/20\n",
            "260/260 [==============================] - 54s 207ms/step - loss: 0.2674 - accuracy: 0.8967 - val_loss: 0.2679 - val_accuracy: 0.8918\n",
            "Epoch 9/20\n",
            "260/260 [==============================] - 55s 211ms/step - loss: 0.2610 - accuracy: 0.8995 - val_loss: 0.2648 - val_accuracy: 0.8943\n",
            "Epoch 10/20\n",
            "260/260 [==============================] - 54s 208ms/step - loss: 0.2552 - accuracy: 0.9011 - val_loss: 0.2575 - val_accuracy: 0.8965\n",
            "Epoch 11/20\n",
            "260/260 [==============================] - 54s 210ms/step - loss: 0.2495 - accuracy: 0.9029 - val_loss: 0.2636 - val_accuracy: 0.8959\n",
            "Epoch 12/20\n",
            "260/260 [==============================] - 54s 206ms/step - loss: 0.2445 - accuracy: 0.9064 - val_loss: 0.2575 - val_accuracy: 0.8953\n",
            "Epoch 13/20\n",
            "260/260 [==============================] - 53s 205ms/step - loss: 0.2406 - accuracy: 0.9078 - val_loss: 0.2536 - val_accuracy: 0.8971\n",
            "Epoch 14/20\n",
            "260/260 [==============================] - 53s 205ms/step - loss: 0.2355 - accuracy: 0.9077 - val_loss: 0.2504 - val_accuracy: 0.9013\n",
            "Epoch 15/20\n",
            "260/260 [==============================] - 53s 205ms/step - loss: 0.2357 - accuracy: 0.9098 - val_loss: 0.2550 - val_accuracy: 0.8986\n",
            "Epoch 16/20\n",
            "260/260 [==============================] - 54s 208ms/step - loss: 0.2258 - accuracy: 0.9149 - val_loss: 0.2484 - val_accuracy: 0.9030\n",
            "Epoch 17/20\n",
            "260/260 [==============================] - 53s 205ms/step - loss: 0.2228 - accuracy: 0.9155 - val_loss: 0.2528 - val_accuracy: 0.8982\n",
            "Epoch 18/20\n",
            "260/260 [==============================] - 53s 204ms/step - loss: 0.2189 - accuracy: 0.9159 - val_loss: 0.2473 - val_accuracy: 0.9020\n",
            "Epoch 19/20\n",
            "260/260 [==============================] - 54s 207ms/step - loss: 0.2173 - accuracy: 0.9159 - val_loss: 0.2460 - val_accuracy: 0.9018\n",
            "Epoch 20/20\n",
            "260/260 [==============================] - 53s 205ms/step - loss: 0.2136 - accuracy: 0.9184 - val_loss: 0.2508 - val_accuracy: 0.8981\n"
          ]
        }
      ]
    },
    {
      "cell_type": "markdown",
      "source": [
        "**Evaluating the model**"
      ],
      "metadata": {
        "id": "M773tQ4P1PZt"
      }
    },
    {
      "cell_type": "code",
      "source": [
        "loss_train = history.history['loss']\n",
        "loss_val = history.history['val_loss']\n",
        "epochs = range(1,21)\n",
        "plt.plot(epochs, loss_train, 'g', label='Training loss')\n",
        "plt.plot(epochs, loss_val, 'b', label='validation loss')\n",
        "plt.title('Training and Validation loss')\n",
        "plt.xlabel('Epochs')\n",
        "plt.ylabel('Loss')\n",
        "plt.legend()\n",
        "plt.show()"
      ],
      "metadata": {
        "colab": {
          "base_uri": "https://localhost:8080/",
          "height": 295
        },
        "id": "Shbev4qVC-mg",
        "outputId": "b666fb75-4384-460b-b222-f4a0c1cbbe1a"
      },
      "execution_count": 40,
      "outputs": [
        {
          "output_type": "display_data",
          "data": {
            "text/plain": [
              "<Figure size 432x288 with 1 Axes>"
            ],
            "image/png": "[encoded data removed]"
          },
          "metadata": {
            "needs_background": "light"
          }
        }
      ]
    },
    {
      "cell_type": "code",
      "source": [
        "loss_train = history.history['accuracy']\n",
        "loss_val = history.history['val_accuracy']\n",
        "epochs = range(1,21)\n",
        "plt.plot(epochs, loss_train, 'g', label='Training accuracy')\n",
        "plt.plot(epochs, loss_val, 'b', label='validation accuracy')\n",
        "plt.title('Training and Validation accuracy')\n",
        "plt.xlabel('Epochs')\n",
        "plt.ylabel('Accuracy')\n",
        "plt.legend()\n",
        "plt.show()"
      ],
      "metadata": {
        "colab": {
          "base_uri": "https://localhost:8080/",
          "height": 295
        },
        "id": "anLtJpqKC-cK",
        "outputId": "37813464-bdc8-4b3a-cad2-81e9e5cc7f84"
      },
      "execution_count": 41,
      "outputs": [
        {
          "output_type": "display_data",
          "data": {
            "text/plain": [
              "<Figure size 432x288 with 1 Axes>"
            ],
            "image/png": "[encoded data removed]"
          },
          "metadata": {
            "needs_background": "light"
          }
        }
      ]
    },
    {
      "cell_type": "code",
      "source": [
        "score = model.evaluate(X_test, y_test, verbose=1)\n",
        "print(\"%s: %.2f%%\" % (model.metrics_names[1], score[1]*100))"
      ],
      "metadata": {
        "id": "t9z560Wi2I6o",
        "colab": {
          "base_uri": "https://localhost:8080/"
        },
        "outputId": "c0454738-be63-41ae-e532-29ed5adbf939"
      },
      "execution_count": 42,
      "outputs": [
        {
          "output_type": "stream",
          "name": "stdout",
          "text": [
            "306/306 [==============================] - 16s 51ms/step - loss: 0.2626 - accuracy: 0.8983\n",
            "accuracy: 89.83%\n"
          ]
        }
      ]
    },
    {
      "cell_type": "code",
      "source": [
        "def decode_sentiment(score):\n",
        "    return 1 if score>0.5 else 0"
      ],
      "metadata": {
        "id": "VhR8wqg72I2a"
      },
      "execution_count": 43,
      "outputs": []
    },
    {
      "cell_type": "code",
      "source": [
        "scores = model.predict(X_test, verbose=1)\n",
        "\n",
        "y_pred = [decode_sentiment(x) for x in scores]"
      ],
      "metadata": {
        "id": "mKgiUmS329sV",
        "colab": {
          "base_uri": "https://localhost:8080/"
        },
        "outputId": "52e3edde-6215-4178-afca-0b78d14e4ab0"
      },
      "execution_count": 44,
      "outputs": [
        {
          "output_type": "stream",
          "name": "stdout",
          "text": [
            "306/306 [==============================] - 13s 40ms/step\n"
          ]
        }
      ]
    },
    {
      "cell_type": "code",
      "source": [
        "print(classification_report(y_test, y_pred))"
      ],
      "metadata": {
        "id": "DhC7jTvN29Wd",
        "colab": {
          "base_uri": "https://localhost:8080/"
        },
        "outputId": "e7bdc5a7-9e02-4fbe-f492-e44911f5adde"
      },
      "execution_count": 45,
      "outputs": [
        {
          "output_type": "stream",
          "name": "stdout",
          "text": [
            "              precision    recall  f1-score   support\n",
            "\n",
            "           0       0.80      0.51      0.62      1613\n",
            "           1       0.91      0.98      0.94      8165\n",
            "\n",
            "    accuracy                           0.90      9778\n",
            "   macro avg       0.86      0.74      0.78      9778\n",
            "weighted avg       0.89      0.90      0.89      9778\n",
            "\n"
          ]
        }
      ]
    },
    {
      "cell_type": "markdown",
      "source": [
        "**function for creating confusion matrix**"
      ],
      "metadata": {
        "id": "zm1S_eVC1YQH"
      }
    },
    {
      "cell_type": "code",
      "source": [
        "def plot_confusion_matrix(cm, classes,\n",
        "                          title='Confusion matrix',\n",
        "                          cmap=plt.cm.Blues):\n",
        "    \"\"\"\n",
        "    This function prints and plots the confusion matrix.\n",
        "    Normalization can be applied by setting `normalize=True`.\n",
        "    \"\"\"\n",
        "\n",
        "    cm = cm.astype('float') / cm.sum(axis=1)[:, np.newaxis]\n",
        "\n",
        "    plt.imshow(cm, interpolation='nearest', cmap=cmap)\n",
        "    plt.title(title, fontsize=20)\n",
        "    plt.colorbar()\n",
        "    tick_marks = np.arange(len(classes))\n",
        "    plt.xticks(tick_marks, classes, fontsize=13)\n",
        "    plt.yticks(tick_marks, classes, fontsize=13)\n",
        "\n",
        "    fmt = '.2f'\n",
        "    thresh = cm.max() / 2.\n",
        "    for i, j in itertools.product(range(cm.shape[0]), range(cm.shape[1])):\n",
        "        plt.text(j, i, format(cm[i, j], fmt),\n",
        "                 horizontalalignment=\"center\",\n",
        "                 color=\"white\" if cm[i, j] > thresh else \"black\")\n",
        "\n",
        "    plt.ylabel('True label', fontsize=17)\n",
        "    plt.xlabel('Predicted label', fontsize=17)"
      ],
      "metadata": {
        "id": "C9wpCE6K29RD"
      },
      "execution_count": 46,
      "outputs": []
    },
    {
      "cell_type": "markdown",
      "source": [
        "**printing the confusion matrix**"
      ],
      "metadata": {
        "id": "WRT8-dl56eeJ"
      }
    },
    {
      "cell_type": "code",
      "source": [
        "cnf_matrix = confusion_matrix(y_test.to_list(), y_pred)\n",
        "plt.figure(figsize=(6,6))\n",
        "plot_confusion_matrix(cnf_matrix, classes=y_test.unique(), title=\"Confusion matrix\")\n",
        "plt.show()"
      ],
      "metadata": {
        "id": "wPe6GcS93STT",
        "colab": {
          "base_uri": "https://localhost:8080/",
          "height": 370
        },
        "outputId": "2cdaa725-2285-43a6-bc47-d0745562c7c4"
      },
      "execution_count": 47,
      "outputs": [
        {
          "output_type": "display_data",
          "data": {
            "text/plain": [
              "<Figure size 432x432 with 2 Axes>"
            ],
            "image/png": "[encoded data removed]"
          },
          "metadata": {
            "needs_background": "light"
          }
        }
      ]
    }
  ],
  "metadata": {
    "colab": {
      "collapsed_sections": [],
      "name": "Sentiment Analysis - CNN_LSTM(Using LABR Dataset) -.ipynb",
      "provenance": []
    },
    "kernelspec": {
      "display_name": "Python 3",
      "name": "python3"
    },
    "language_info": {
      "name": "python"
    },
    "accelerator": "GPU"
  },
  "nbformat": 4,
  "nbformat_minor": 0
}