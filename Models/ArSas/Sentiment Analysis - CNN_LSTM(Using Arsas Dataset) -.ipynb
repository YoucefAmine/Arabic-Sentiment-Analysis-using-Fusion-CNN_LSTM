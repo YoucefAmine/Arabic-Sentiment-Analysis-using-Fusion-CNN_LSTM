{
  "cells": [
    {
      "cell_type": "markdown",
      "metadata": {
        "id": "En5KcfQ977aF"
      },
      "source": [
        "**Importing the libraries needed** "
      ]
    },
    {
      "cell_type": "code",
      "source": [
        "import numpy as np\n",
        "import pandas as pd\n",
        "import time\n",
        "\n",
        "\n",
        "import matplotlib.pyplot as plt\n",
        "import seaborn as sns\n",
        "\n",
        "import re\n",
        "import string\n",
        "\n",
        "from sklearn.model_selection import train_test_split\n",
        "from sklearn.metrics import confusion_matrix, classification_report, accuracy_score\n",
        "\n",
        "import gensim\n",
        "from gensim.models import KeyedVectors\n",
        "\n",
        "from keras.preprocessing.text import Tokenizer\n",
        "from keras.preprocessing.sequence import pad_sequences\n",
        "\n",
        "import tensorflow as tf\n",
        "from keras.models import Sequential\n",
        "from tensorflow.keras.layers import SpatialDropout1D, Conv1D, Bidirectional, LSTM, Dense, Input, Dropout, GlobalMaxPooling1D\n",
        "from keras.layers.embeddings import Embedding\n",
        "from tensorflow.keras.callbacks import ModelCheckpoint, ReduceLROnPlateau, EarlyStopping\n",
        "from tensorflow.keras.optimizers import Adam\n",
        "\n",
        "import itertools\n",
        "from numpy import loadtxt\n",
        "from keras.models import load_model\n",
        "\n",
        "import warnings\n",
        "warnings.filterwarnings(\"ignore\")"
      ],
      "metadata": {
        "id": "UedihKbFaGRw"
      },
      "execution_count": 1,
      "outputs": []
    },
    {
      "cell_type": "markdown",
      "source": [
        "**Connecting to google drive**"
      ],
      "metadata": {
        "id": "xHYYJY5Eprjm"
      }
    },
    {
      "cell_type": "code",
      "source": [
        "from google.colab import drive\n",
        "drive.mount(\"/content/gdrive\")"
      ],
      "metadata": {
        "colab": {
          "base_uri": "https://localhost:8080/"
        },
        "id": "naII_z2LacpB",
        "outputId": "ba375eaa-f904-4dd8-c80a-0d947ee1fd2b"
      },
      "execution_count": 2,
      "outputs": [
        {
          "output_type": "stream",
          "name": "stdout",
          "text": [
            "Mounted at /content/gdrive\n"
          ]
        }
      ]
    },
    {
      "cell_type": "markdown",
      "source": [
        " \n",
        "**Uploading the dataset**"
      ],
      "metadata": {
        "id": "BADzPl6RpzKe"
      }
    },
    {
      "cell_type": "code",
      "source": [
        "path_data = \"/content/gdrive/MyDrive/thesis/modified.csv\"\n",
        "\n",
        "Arsas = pd.read_csv(path_data ,sep='\\t')"
      ],
      "metadata": {
        "id": "dXhCSDNvbkkU"
      },
      "execution_count": 3,
      "outputs": []
    },
    {
      "cell_type": "code",
      "source": [
        "data = Arsas"
      ],
      "metadata": {
        "id": "DKkvAv13el-g"
      },
      "execution_count": 4,
      "outputs": []
    },
    {
      "cell_type": "markdown",
      "source": [
        "**printing the first 3 rows of the data**"
      ],
      "metadata": {
        "id": "bJQzPQ_gp_O4"
      }
    },
    {
      "cell_type": "code",
      "source": [
        "data.head(3)"
      ],
      "metadata": {
        "colab": {
          "base_uri": "https://localhost:8080/",
          "height": 143
        },
        "id": "q7feEPcNf3r5",
        "outputId": "e6c5ea40-1d15-4985-ccd6-451dde0f763b"
      },
      "execution_count": 5,
      "outputs": [
        {
          "output_type": "execute_result",
          "data": {
            "text/plain": [
              "            #Tweet_ID                                         Tweet_text  \\\n",
              "0  929241870508724224  المباراة القـادمة #غانا x #مصر الجولة الأخيرة ...   \n",
              "1  928942264583376897  هل هذه هي سياسة خارجيه لدوله تحترم نفسها والآخ...   \n",
              "2  928615163250520065  وزير خارجية فرنسا عن منتدى شباب العالم: شعرت ب...   \n",
              "\n",
              "  Sentiment_label  \n",
              "0        Positive  \n",
              "1        Negative  \n",
              "2        Positive  "
            ],
            "text/html": [
              "\n",
              "  <div id=\"df-cb3a702e-40e0-46ad-bcae-7defbaab5ffe\">\n",
              "    <div class=\"colab-df-container\">\n",
              "      <div>\n",
              "<style scoped>\n",
              "    .dataframe tbody tr th:only-of-type {\n",
              "        vertical-align: middle;\n",
              "    }\n",
              "\n",
              "    .dataframe tbody tr th {\n",
              "        vertical-align: top;\n",
              "    }\n",
              "\n",
              "    .dataframe thead th {\n",
              "        text-align: right;\n",
              "    }\n",
              "</style>\n",
              "<table border=\"1\" class=\"dataframe\">\n",
              "  <thead>\n",
              "    <tr style=\"text-align: right;\">\n",
              "      <th></th>\n",
              "      <th>#Tweet_ID</th>\n",
              "      <th>Tweet_text</th>\n",
              "      <th>Sentiment_label</th>\n",
              "    </tr>\n",
              "  </thead>\n",
              "  <tbody>\n",
              "    <tr>\n",
              "      <th>0</th>\n",
              "      <td>929241870508724224</td>\n",
              "      <td>المباراة القـادمة #غانا x #مصر الجولة الأخيرة ...</td>\n",
              "      <td>Positive</td>\n",
              "    </tr>\n",
              "    <tr>\n",
              "      <th>1</th>\n",
              "      <td>928942264583376897</td>\n",
              "      <td>هل هذه هي سياسة خارجيه لدوله تحترم نفسها والآخ...</td>\n",
              "      <td>Negative</td>\n",
              "    </tr>\n",
              "    <tr>\n",
              "      <th>2</th>\n",
              "      <td>928615163250520065</td>\n",
              "      <td>وزير خارجية فرنسا عن منتدى شباب العالم: شعرت ب...</td>\n",
              "      <td>Positive</td>\n",
              "    </tr>\n",
              "  </tbody>\n",
              "</table>\n",
              "</div>\n",
              "      <button class=\"colab-df-convert\" onclick=\"convertToInteractive('df-cb3a702e-40e0-46ad-bcae-7defbaab5ffe')\"\n",
              "              title=\"Convert this dataframe to an interactive table.\"\n",
              "              style=\"display:none;\">\n",
              "        \n",
              "  <svg xmlns=\"http://www.w3.org/2000/svg\" height=\"24px\"viewBox=\"0 0 24 24\"\n",
              "       width=\"24px\">\n",
              "    <path d=\"M0 0h24v24H0V0z\" fill=\"none\"/>\n",
              "    <path d=\"M18.56 5.44l.94 2.06.94-2.06 2.06-.94-2.06-.94-.94-2.06-.94 2.06-2.06.94zm-11 1L8.5 8.5l.94-2.06 2.06-.94-2.06-.94L8.5 2.5l-.94 2.06-2.06.94zm10 10l.94 2.06.94-2.06 2.06-.94-2.06-.94-.94-2.06-.94 2.06-2.06.94z\"/><path d=\"M17.41 7.96l-1.37-1.37c-.4-.4-.92-.59-1.43-.59-.52 0-1.04.2-1.43.59L10.3 9.45l-7.72 7.72c-.78.78-.78 2.05 0 2.83L4 21.41c.39.39.9.59 1.41.59.51 0 1.02-.2 1.41-.59l7.78-7.78 2.81-2.81c.8-.78.8-2.07 0-2.86zM5.41 20L4 18.59l7.72-7.72 1.47 1.35L5.41 20z\"/>\n",
              "  </svg>\n",
              "      </button>\n",
              "      \n",
              "  <style>\n",
              "    .colab-df-container {\n",
              "      display:flex;\n",
              "      flex-wrap:wrap;\n",
              "      gap: 12px;\n",
              "    }\n",
              "\n",
              "    .colab-df-convert {\n",
              "      background-color: #E8F0FE;\n",
              "      border: none;\n",
              "      border-radius: 50%;\n",
              "      cursor: pointer;\n",
              "      display: none;\n",
              "      fill: #1967D2;\n",
              "      height: 32px;\n",
              "      padding: 0 0 0 0;\n",
              "      width: 32px;\n",
              "    }\n",
              "\n",
              "    .colab-df-convert:hover {\n",
              "      background-color: #E2EBFA;\n",
              "      box-shadow: 0px 1px 2px rgba(60, 64, 67, 0.3), 0px 1px 3px 1px rgba(60, 64, 67, 0.15);\n",
              "      fill: #174EA6;\n",
              "    }\n",
              "\n",
              "    [theme=dark] .colab-df-convert {\n",
              "      background-color: #3B4455;\n",
              "      fill: #D2E3FC;\n",
              "    }\n",
              "\n",
              "    [theme=dark] .colab-df-convert:hover {\n",
              "      background-color: #434B5C;\n",
              "      box-shadow: 0px 1px 3px 1px rgba(0, 0, 0, 0.15);\n",
              "      filter: drop-shadow(0px 1px 2px rgba(0, 0, 0, 0.3));\n",
              "      fill: #FFFFFF;\n",
              "    }\n",
              "  </style>\n",
              "\n",
              "      <script>\n",
              "        const buttonEl =\n",
              "          document.querySelector('#df-cb3a702e-40e0-46ad-bcae-7defbaab5ffe button.colab-df-convert');\n",
              "        buttonEl.style.display =\n",
              "          google.colab.kernel.accessAllowed ? 'block' : 'none';\n",
              "\n",
              "        async function convertToInteractive(key) {\n",
              "          const element = document.querySelector('#df-cb3a702e-40e0-46ad-bcae-7defbaab5ffe');\n",
              "          const dataTable =\n",
              "            await google.colab.kernel.invokeFunction('convertToInteractive',\n",
              "                                                     [key], {});\n",
              "          if (!dataTable) return;\n",
              "\n",
              "          const docLinkHtml = 'Like what you see? Visit the ' +\n",
              "            '<a target=\"_blank\" href=https://colab.research.google.com/notebooks/data_table.ipynb>data table notebook</a>'\n",
              "            + ' to learn more about interactive tables.';\n",
              "          element.innerHTML = '';\n",
              "          dataTable['output_type'] = 'display_data';\n",
              "          await google.colab.output.renderOutput(dataTable, element);\n",
              "          const docLink = document.createElement('div');\n",
              "          docLink.innerHTML = docLinkHtml;\n",
              "          element.appendChild(docLink);\n",
              "        }\n",
              "      </script>\n",
              "    </div>\n",
              "  </div>\n",
              "  "
            ]
          },
          "metadata": {},
          "execution_count": 5
        }
      ]
    },
    {
      "cell_type": "markdown",
      "source": [
        "**printing the shape of the dataset nbr of row and columns**"
      ],
      "metadata": {
        "id": "VwXDd4oUqKZL"
      }
    },
    {
      "cell_type": "code",
      "source": [
        "print(\"Data contient {} lignes et {} colonnes.\".format(data.shape[0], data.shape[1]))"
      ],
      "metadata": {
        "colab": {
          "base_uri": "https://localhost:8080/"
        },
        "id": "MB8JS7NNtQpf",
        "outputId": "91b99499-d12f-4cf9-b503-d5d4f841b200"
      },
      "execution_count": 6,
      "outputs": [
        {
          "output_type": "stream",
          "name": "stdout",
          "text": [
            "Data contient 21064 lignes et 3 colonnes.\n"
          ]
        }
      ]
    },
    {
      "cell_type": "markdown",
      "source": [
        " **printing the fiels with missed values**\n",
        "\n"
      ],
      "metadata": {
        "id": "HU9GqLArqYls"
      }
    },
    {
      "cell_type": "code",
      "source": [
        "data.isnull().sum()"
      ],
      "metadata": {
        "colab": {
          "base_uri": "https://localhost:8080/"
        },
        "id": "-ZY0H2oYtaBA",
        "outputId": "10707f8e-c45a-4c58-e94d-1815d9a1feb0"
      },
      "execution_count": 7,
      "outputs": [
        {
          "output_type": "execute_result",
          "data": {
            "text/plain": [
              "#Tweet_ID          0\n",
              "Tweet_text         0\n",
              "Sentiment_label    0\n",
              "dtype: int64"
            ]
          },
          "metadata": {},
          "execution_count": 7
        }
      ]
    },
    {
      "cell_type": "markdown",
      "source": [
        "**printing the number of the duplicated rows**"
      ],
      "metadata": {
        "id": "xzjbolY5qyrw"
      }
    },
    {
      "cell_type": "code",
      "source": [
        "print(\"On a  {} doublons dans Data.\".format(data.duplicated().sum()))"
      ],
      "metadata": {
        "colab": {
          "base_uri": "https://localhost:8080/"
        },
        "id": "pLckLWmUxZMM",
        "outputId": "57d3c6b0-7d0f-4551-8cda-373770eaf07c"
      },
      "execution_count": 8,
      "outputs": [
        {
          "output_type": "stream",
          "name": "stdout",
          "text": [
            "On a  68 doublons dans Data.\n"
          ]
        }
      ]
    },
    {
      "cell_type": "code",
      "source": [
        "data.drop_duplicates(inplace = True)"
      ],
      "metadata": {
        "id": "gYpaP9TskZaK"
      },
      "execution_count": 9,
      "outputs": []
    },
    {
      "cell_type": "code",
      "source": [
        "print(\"On a  {} doublons dans Data.\".format(data.duplicated().sum()))"
      ],
      "metadata": {
        "id": "hy5zempckaeG",
        "colab": {
          "base_uri": "https://localhost:8080/"
        },
        "outputId": "739c6e1a-bfa8-47bd-d61d-d0e5ac739fca"
      },
      "execution_count": 10,
      "outputs": [
        {
          "output_type": "stream",
          "name": "stdout",
          "text": [
            "On a  0 doublons dans Data.\n"
          ]
        }
      ]
    },
    {
      "cell_type": "markdown",
      "source": [
        "**checking the types of the fiels in the data**"
      ],
      "metadata": {
        "id": "N9MMOuUlrAAm"
      }
    },
    {
      "cell_type": "code",
      "source": [
        "data.dtypes"
      ],
      "metadata": {
        "colab": {
          "base_uri": "https://localhost:8080/"
        },
        "id": "JKvnEbNDuMXH",
        "outputId": "b0ce86b8-c047-4104-b4eb-4e002ac228ee"
      },
      "execution_count": 11,
      "outputs": [
        {
          "output_type": "execute_result",
          "data": {
            "text/plain": [
              "#Tweet_ID           int64\n",
              "Tweet_text         object\n",
              "Sentiment_label    object\n",
              "dtype: object"
            ]
          },
          "metadata": {},
          "execution_count": 11
        }
      ]
    },
    {
      "cell_type": "markdown",
      "source": [
        "**function for printing the pie**"
      ],
      "metadata": {
        "id": "8v0AK1OUrQGz"
      }
    },
    {
      "cell_type": "code",
      "source": [
        "def pie(data,col):\n",
        "    labels = data[col].value_counts().keys().tolist()\n",
        "    n = len(labels)\n",
        "    if n==2:\n",
        "        colors = ['#66b3ff', '#fb3999']\n",
        "    elif n==3:\n",
        "        colors = ['#66b3ff', '#fb3999', '#ffcc99']\n",
        "    elif n==4:\n",
        "        colors = ['#66b3ff', '#fb3999', '#ffcc99',\"#66f3ff\"]\n",
        "    elif n==5:\n",
        "        colors = ['#66b3ff', '#fb3999', '#ffcc99',\"#66f3ff\",'#adcc99']\n",
        "    elif n==6:\n",
        "        colors = ['#66b3ff', '#fb3999', '#ffcc99',\"#66f3ff\",'#adcc99',\"#db7f23\"]\n",
        "    \n",
        "    fig1, f1 = plt.subplots()\n",
        "    f1.pie(data[col].value_counts(), labels=labels, colors = colors, autopct='%1.1f%%',shadow=False, startangle=60) \n",
        "    f1.axis('equal')\n",
        "    plt.tight_layout()\n",
        "    plt.show()\n",
        "    \n",
        "def histo(data,col):\n",
        "    plt.figure(figsize = (10, 8))\n",
        "    sns.histplot(data=data, x=col, hue = data[col], fill=True)"
      ],
      "metadata": {
        "id": "NKsJG1v6xmwu"
      },
      "execution_count": 12,
      "outputs": []
    },
    {
      "cell_type": "markdown",
      "source": [
        "**Counting the % of each classe**"
      ],
      "metadata": {
        "id": "jsHaFYHdrrEr"
      }
    },
    {
      "cell_type": "code",
      "source": [
        "data.Sentiment_label.value_counts(normalize = True)"
      ],
      "metadata": {
        "colab": {
          "base_uri": "https://localhost:8080/"
        },
        "id": "tp-nT2EBxmg5",
        "outputId": "ff04c13d-afa0-460b-f8d0-5e72dd49d6f8"
      },
      "execution_count": 13,
      "outputs": [
        {
          "output_type": "execute_result",
          "data": {
            "text/plain": [
              "Negative    0.371404\n",
              "Neutral     0.346018\n",
              "Positive    0.220566\n",
              "Mixed       0.062012\n",
              "Name: Sentiment_label, dtype: float64"
            ]
          },
          "metadata": {},
          "execution_count": 13
        }
      ]
    },
    {
      "cell_type": "markdown",
      "source": [
        "**Printing the distribution of the classes**"
      ],
      "metadata": {
        "id": "KGUDWDHGsLtZ"
      }
    },
    {
      "cell_type": "code",
      "source": [
        "pie(data, \"Sentiment_label\")"
      ],
      "metadata": {
        "colab": {
          "base_uri": "https://localhost:8080/",
          "height": 297
        },
        "id": "MXfBwk6-xmZD",
        "outputId": "77502299-bdbc-46d9-8d9f-01dc6a52e533"
      },
      "execution_count": 14,
      "outputs": [
        {
          "output_type": "display_data",
          "data": {
            "text/plain": [
              "<Figure size 432x288 with 1 Axes>"
            ],
            "image/png": "[encoded data removed]"
          },
          "metadata": {}
        }
      ]
    },
    {
      "cell_type": "code",
      "source": [
        "positive = data[data[\"Sentiment_label\"] == \"Positive\"]\n",
        "positive[\"sentiment\"] = 1\n",
        "\n",
        "mixed = data[data[\"Sentiment_label\"] == \"Mixed\"]\n",
        "mixed[\"sentiment\"] = 2\n",
        "\n",
        "neutral = data[data[\"Sentiment_label\"] == \"Neutral\"]\n",
        "neutral[\"sentiment\"] = 3\n",
        "\n",
        "negative = data[data[\"Sentiment_label\"] == \"Negative\"]\n",
        "negative[\"sentiment\"] = 0\n",
        "\n",
        "data = pd.concat([positive, mixed, neutral, negative], ignore_index = True)"
      ],
      "metadata": {
        "id": "COqPEvk8t0Vh"
      },
      "execution_count": 15,
      "outputs": []
    },
    {
      "cell_type": "code",
      "source": [
        "print(\"data contient {} lignes.\".format(data.shape[0]))\n",
        "\n",
        "print(\"Positive contient {} lignes.\".format(positive.shape[0]))\n",
        "\n",
        "print(\"Negative contient {} lignes.\".format(negative.shape[0]))\n",
        "\n",
        "print(\"Mixed contient {} lignes.\".format(mixed.shape[0]))\n",
        "\n",
        "print(\"Neutral contient {} lignes.\".format(neutral.shape[0]))"
      ],
      "metadata": {
        "colab": {
          "base_uri": "https://localhost:8080/"
        },
        "id": "OzqkJKXOvWW0",
        "outputId": "b57543df-c43d-4a2c-b2fa-7cae2d4f32bc"
      },
      "execution_count": 16,
      "outputs": [
        {
          "output_type": "stream",
          "name": "stdout",
          "text": [
            "data contient 20996 lignes.\n",
            "Positive contient 4631 lignes.\n",
            "Negative contient 7798 lignes.\n",
            "Mixed contient 1302 lignes.\n",
            "Neutral contient 7265 lignes.\n"
          ]
        }
      ]
    },
    {
      "cell_type": "code",
      "source": [
        "pie(data,\"sentiment\")"
      ],
      "metadata": {
        "colab": {
          "base_uri": "https://localhost:8080/",
          "height": 297
        },
        "id": "x2w5XFYFvvVk",
        "outputId": "30684332-1431-417b-82b4-7850c71aba81"
      },
      "execution_count": 17,
      "outputs": [
        {
          "output_type": "display_data",
          "data": {
            "text/plain": [
              "<Figure size 432x288 with 1 Axes>"
            ],
            "image/png": "[encoded data removed]"
          },
          "metadata": {}
        }
      ]
    },
    {
      "cell_type": "code",
      "source": [
        "histo(data,\"Sentiment_label\")"
      ],
      "metadata": {
        "colab": {
          "base_uri": "https://localhost:8080/",
          "height": 498
        },
        "id": "OrFZzbW4x_-6",
        "outputId": "fb133b37-f0a2-4277-cb3e-e395c973ed02"
      },
      "execution_count": 18,
      "outputs": [
        {
          "output_type": "display_data",
          "data": {
            "text/plain": [
              "<Figure size 720x576 with 1 Axes>"
            ],
            "image/png": "[encoded data removed]"
          },
          "metadata": {
            "needs_background": "light"
          }
        }
      ]
    },
    {
      "cell_type": "markdown",
      "source": [
        "**function to count the length of reviews**\n",
        "\n"
      ],
      "metadata": {
        "id": "aQPXSoQQtxC-"
      }
    },
    {
      "cell_type": "code",
      "source": [
        "def compte_mots(phrase):\n",
        "    return len(phrase.split())\n",
        "\n",
        "data[\"len_review\"] = data[\"Tweet_text\"].apply(compte_mots)\n"
      ],
      "metadata": {
        "id": "HdnqI69vx_7F"
      },
      "execution_count": 19,
      "outputs": []
    },
    {
      "cell_type": "markdown",
      "source": [
        "**printing the max  length of the positive and negative reviews**"
      ],
      "metadata": {
        "id": "s0gPiiV7uE5T"
      }
    },
    {
      "cell_type": "code",
      "source": [
        "print(\"Le maximum de mots utilisé dans les reviews  est :\", max(data['len_review']))\n",
        "print(\"Le moyen de mots utilisé dans les reviews est :\", np.mean(data['len_review']))"
      ],
      "metadata": {
        "colab": {
          "base_uri": "https://localhost:8080/"
        },
        "id": "RUOg19_jx_28",
        "outputId": "4fd68f4f-95ae-48ef-93c7-398388d5ac5a"
      },
      "execution_count": 20,
      "outputs": [
        {
          "output_type": "stream",
          "name": "stdout",
          "text": [
            "Le maximum de mots utilisé dans les reviews  est : 64\n",
            "Le moyen de mots utilisé dans les reviews est : 19.701657458563535\n"
          ]
        }
      ]
    },
    {
      "cell_type": "code",
      "source": [
        "plt.figure(figsize=(10,9))\n",
        "\n",
        "p1=sns.kdeplot(data['len_review'], hue = data['Sentiment_label'],  shade=True, color=\"r\")\n",
        "\n",
        "plt.xlim(0, 100)"
      ],
      "metadata": {
        "colab": {
          "base_uri": "https://localhost:8080/",
          "height": 569
        },
        "id": "zoWA0F5Ox_yo",
        "outputId": "fcaf6a9b-dbe1-4121-b14e-c25502647806"
      },
      "execution_count": 21,
      "outputs": [
        {
          "output_type": "execute_result",
          "data": {
            "text/plain": [
              "(0.0, 100.0)"
            ]
          },
          "metadata": {},
          "execution_count": 21
        },
        {
          "output_type": "display_data",
          "data": {
            "text/plain": [
              "<Figure size 720x648 with 1 Axes>"
            ],
            "image/png": "[encoded data removed]"
          },
          "metadata": {
            "needs_background": "light"
          }
        }
      ]
    },
    {
      "cell_type": "markdown",
      "source": [
        "**Deleting unused fields**"
      ],
      "metadata": {
        "id": "JizLU3m4vwvB"
      }
    },
    {
      "cell_type": "code",
      "source": [
        "data.drop(['#Tweet_ID'], axis = 1, inplace = True)\n",
        "data.head(3)"
      ],
      "metadata": {
        "colab": {
          "base_uri": "https://localhost:8080/",
          "height": 143
        },
        "id": "3sSAEvcKx_vr",
        "outputId": "03feb7b5-6527-4daf-cd46-0286b205db2a"
      },
      "execution_count": 22,
      "outputs": [
        {
          "output_type": "execute_result",
          "data": {
            "text/plain": [
              "                                          Tweet_text Sentiment_label  \\\n",
              "0  المباراة القـادمة #غانا x #مصر الجولة الأخيرة ...        Positive   \n",
              "1  وزير خارجية فرنسا عن منتدى شباب العالم: شعرت ب...        Positive   \n",
              "2  بسم الله نبدأ 👏 نغرد علي وسم 👇 👇 👇 👇 👇 ↩ #شباب...        Positive   \n",
              "\n",
              "   sentiment  len_review  \n",
              "0          1          45  \n",
              "1          1          16  \n",
              "2          1          27  "
            ],
            "text/html": [
              "\n",
              "  <div id=\"df-32d65a58-bba5-42b2-80d1-622202c80320\">\n",
              "    <div class=\"colab-df-container\">\n",
              "      <div>\n",
              "<style scoped>\n",
              "    .dataframe tbody tr th:only-of-type {\n",
              "        vertical-align: middle;\n",
              "    }\n",
              "\n",
              "    .dataframe tbody tr th {\n",
              "        vertical-align: top;\n",
              "    }\n",
              "\n",
              "    .dataframe thead th {\n",
              "        text-align: right;\n",
              "    }\n",
              "</style>\n",
              "<table border=\"1\" class=\"dataframe\">\n",
              "  <thead>\n",
              "    <tr style=\"text-align: right;\">\n",
              "      <th></th>\n",
              "      <th>Tweet_text</th>\n",
              "      <th>Sentiment_label</th>\n",
              "      <th>sentiment</th>\n",
              "      <th>len_review</th>\n",
              "    </tr>\n",
              "  </thead>\n",
              "  <tbody>\n",
              "    <tr>\n",
              "      <th>0</th>\n",
              "      <td>المباراة القـادمة #غانا x #مصر الجولة الأخيرة ...</td>\n",
              "      <td>Positive</td>\n",
              "      <td>1</td>\n",
              "      <td>45</td>\n",
              "    </tr>\n",
              "    <tr>\n",
              "      <th>1</th>\n",
              "      <td>وزير خارجية فرنسا عن منتدى شباب العالم: شعرت ب...</td>\n",
              "      <td>Positive</td>\n",
              "      <td>1</td>\n",
              "      <td>16</td>\n",
              "    </tr>\n",
              "    <tr>\n",
              "      <th>2</th>\n",
              "      <td>بسم الله نبدأ 👏 نغرد علي وسم 👇 👇 👇 👇 👇 ↩ #شباب...</td>\n",
              "      <td>Positive</td>\n",
              "      <td>1</td>\n",
              "      <td>27</td>\n",
              "    </tr>\n",
              "  </tbody>\n",
              "</table>\n",
              "</div>\n",
              "      <button class=\"colab-df-convert\" onclick=\"convertToInteractive('df-32d65a58-bba5-42b2-80d1-622202c80320')\"\n",
              "              title=\"Convert this dataframe to an interactive table.\"\n",
              "              style=\"display:none;\">\n",
              "        \n",
              "  <svg xmlns=\"http://www.w3.org/2000/svg\" height=\"24px\"viewBox=\"0 0 24 24\"\n",
              "       width=\"24px\">\n",
              "    <path d=\"M0 0h24v24H0V0z\" fill=\"none\"/>\n",
              "    <path d=\"M18.56 5.44l.94 2.06.94-2.06 2.06-.94-2.06-.94-.94-2.06-.94 2.06-2.06.94zm-11 1L8.5 8.5l.94-2.06 2.06-.94-2.06-.94L8.5 2.5l-.94 2.06-2.06.94zm10 10l.94 2.06.94-2.06 2.06-.94-2.06-.94-.94-2.06-.94 2.06-2.06.94z\"/><path d=\"M17.41 7.96l-1.37-1.37c-.4-.4-.92-.59-1.43-.59-.52 0-1.04.2-1.43.59L10.3 9.45l-7.72 7.72c-.78.78-.78 2.05 0 2.83L4 21.41c.39.39.9.59 1.41.59.51 0 1.02-.2 1.41-.59l7.78-7.78 2.81-2.81c.8-.78.8-2.07 0-2.86zM5.41 20L4 18.59l7.72-7.72 1.47 1.35L5.41 20z\"/>\n",
              "  </svg>\n",
              "      </button>\n",
              "      \n",
              "  <style>\n",
              "    .colab-df-container {\n",
              "      display:flex;\n",
              "      flex-wrap:wrap;\n",
              "      gap: 12px;\n",
              "    }\n",
              "\n",
              "    .colab-df-convert {\n",
              "      background-color: #E8F0FE;\n",
              "      border: none;\n",
              "      border-radius: 50%;\n",
              "      cursor: pointer;\n",
              "      display: none;\n",
              "      fill: #1967D2;\n",
              "      height: 32px;\n",
              "      padding: 0 0 0 0;\n",
              "      width: 32px;\n",
              "    }\n",
              "\n",
              "    .colab-df-convert:hover {\n",
              "      background-color: #E2EBFA;\n",
              "      box-shadow: 0px 1px 2px rgba(60, 64, 67, 0.3), 0px 1px 3px 1px rgba(60, 64, 67, 0.15);\n",
              "      fill: #174EA6;\n",
              "    }\n",
              "\n",
              "    [theme=dark] .colab-df-convert {\n",
              "      background-color: #3B4455;\n",
              "      fill: #D2E3FC;\n",
              "    }\n",
              "\n",
              "    [theme=dark] .colab-df-convert:hover {\n",
              "      background-color: #434B5C;\n",
              "      box-shadow: 0px 1px 3px 1px rgba(0, 0, 0, 0.15);\n",
              "      filter: drop-shadow(0px 1px 2px rgba(0, 0, 0, 0.3));\n",
              "      fill: #FFFFFF;\n",
              "    }\n",
              "  </style>\n",
              "\n",
              "      <script>\n",
              "        const buttonEl =\n",
              "          document.querySelector('#df-32d65a58-bba5-42b2-80d1-622202c80320 button.colab-df-convert');\n",
              "        buttonEl.style.display =\n",
              "          google.colab.kernel.accessAllowed ? 'block' : 'none';\n",
              "\n",
              "        async function convertToInteractive(key) {\n",
              "          const element = document.querySelector('#df-32d65a58-bba5-42b2-80d1-622202c80320');\n",
              "          const dataTable =\n",
              "            await google.colab.kernel.invokeFunction('convertToInteractive',\n",
              "                                                     [key], {});\n",
              "          if (!dataTable) return;\n",
              "\n",
              "          const docLinkHtml = 'Like what you see? Visit the ' +\n",
              "            '<a target=\"_blank\" href=https://colab.research.google.com/notebooks/data_table.ipynb>data table notebook</a>'\n",
              "            + ' to learn more about interactive tables.';\n",
              "          element.innerHTML = '';\n",
              "          dataTable['output_type'] = 'display_data';\n",
              "          await google.colab.output.renderOutput(dataTable, element);\n",
              "          const docLink = document.createElement('div');\n",
              "          docLink.innerHTML = docLinkHtml;\n",
              "          element.appendChild(docLink);\n",
              "        }\n",
              "      </script>\n",
              "    </div>\n",
              "  </div>\n",
              "  "
            ]
          },
          "metadata": {},
          "execution_count": 22
        }
      ]
    },
    {
      "cell_type": "code",
      "source": [
        "df = data\n",
        "df.dtypes"
      ],
      "metadata": {
        "id": "EG7TlnWAxl4p",
        "colab": {
          "base_uri": "https://localhost:8080/"
        },
        "outputId": "341a0988-822b-4442-a69c-cb3540b3dc84"
      },
      "execution_count": 23,
      "outputs": [
        {
          "output_type": "execute_result",
          "data": {
            "text/plain": [
              "Tweet_text         object\n",
              "Sentiment_label    object\n",
              "sentiment           int64\n",
              "len_review          int64\n",
              "dtype: object"
            ]
          },
          "metadata": {},
          "execution_count": 23
        }
      ]
    },
    {
      "cell_type": "markdown",
      "source": [
        "**the function of the preprocessing**"
      ],
      "metadata": {
        "id": "zt-HChYHv6oR"
      }
    },
    {
      "cell_type": "code",
      "source": [
        "def preprocessing(text):\n",
        "     \n",
        "    # ref: https://github.com/bakrianoo/aravec\n",
        "    search = [\"أ\",\"إ\",\"آ\",\"ة\",\"_\",\"-\",\"/\",\".\",\"،\",\" و \",\" يا \",'\"',\"ـ\",\"'\",\"ى\",\n",
        "              \"\\\\\",'\\n', '\\t','&quot;','?','؟','!']\n",
        "    replace = [\"ا\",\"ا\",\"ا\",\"ه\",\" \",\" \",\"\",\"\",\"\",\" و\",\" يا\",\n",
        "               \"\",\"\",\"\",\"ي\",\"\",' ', ' ',' ',' ? ',' ؟ ', ' ! ']\n",
        "    \n",
        "    tashkeel = re.compile(r'[\\u0617-\\u061A\\u064B-\\u0652]')\n",
        "    text = re.sub(tashkeel,\"\", text)\n",
        "    \n",
        "    longation = re.compile(r'(.)\\1+')\n",
        "    subst = r\"\\1\\1\"\n",
        "    text = re.sub(longation, subst, text)\n",
        "    \n",
        "    text = re.sub(r\"[^\\w\\s]\", '', text)\n",
        "    text = re.sub(r\"[a-zA-Z]\", '', text)\n",
        "    text = re.sub(r\"\\d+\", ' ', text)\n",
        "    text = re.sub(r\"\\n+\", ' ', text)\n",
        "    text = re.sub(r\"\\t+\", ' ', text)\n",
        "    text = re.sub(r\"\\r+\", ' ', text)\n",
        "    text = re.sub(r\"\\s+\", ' ', text)\n",
        "    text = text.replace('وو', 'و')\n",
        "    text = text.replace('يي', 'ي')\n",
        "    text = text.replace('اا', 'ا')\n",
        "    \n",
        "    for i in range(0, len(search)):\n",
        "        text = text.replace(search[i], replace[i])\n",
        "    \n",
        "    text = text.strip()\n",
        "    \n",
        "    return text\n",
        "\n"
      ],
      "metadata": {
        "id": "S06YfDBayo2C"
      },
      "execution_count": 24,
      "outputs": []
    },
    {
      "cell_type": "markdown",
      "source": [
        "**preprocessing the reviews and printing the time spent**"
      ],
      "metadata": {
        "id": "-TA69444wCTs"
      }
    },
    {
      "cell_type": "code",
      "source": [
        "%%time\n",
        "data[\"Clean_reviews\"] = data.Tweet_text.apply(lambda x: preprocessing(x))"
      ],
      "metadata": {
        "colab": {
          "base_uri": "https://localhost:8080/"
        },
        "id": "dCa_gwMYyovM",
        "outputId": "f854487b-cb9c-4588-f3d0-e0d5a076c6eb"
      },
      "execution_count": 25,
      "outputs": [
        {
          "output_type": "stream",
          "name": "stdout",
          "text": [
            "CPU times: user 1.19 s, sys: 6.17 ms, total: 1.2 s\n",
            "Wall time: 1.22 s\n"
          ]
        }
      ]
    },
    {
      "cell_type": "markdown",
      "source": [
        "**printing a review before and after preprocessing**"
      ],
      "metadata": {
        "id": "EYqZdx-hwMJc"
      }
    },
    {
      "cell_type": "code",
      "source": [
        "print('- Avant le prétraitement \\n\\n',data[\"Tweet_text\"][4])\n",
        "print(\"\\n-----------------------------------------------\\n\")\n",
        "print('- Après le prétraitement \\n\\n',data[\"Clean_reviews\"][4])"
      ],
      "metadata": {
        "colab": {
          "base_uri": "https://localhost:8080/"
        },
        "id": "uYBIFXA_yorI",
        "outputId": "dff282d4-0bde-4a91-dc47-7f55f11645e3"
      },
      "execution_count": 26,
      "outputs": [
        {
          "output_type": "stream",
          "name": "stdout",
          "text": [
            "- Avant le prétraitement \n",
            "\n",
            " شارك بتصويت «BBC» لدعم محمد صلاح للحصول على جائزة الأفضل بأفريقيا https://t.co/t1Q0l0UlP\n",
            "\n",
            "-----------------------------------------------\n",
            "\n",
            "- Après le prétraitement \n",
            "\n",
            " شارك بتصويت لدعم محمد صلاح للحصول علي جائزه الافضل بافريقيا\n"
          ]
        }
      ]
    },
    {
      "cell_type": "markdown",
      "source": [
        "**Saving the cleaned data in a csv file**"
      ],
      "metadata": {
        "id": "3Vzp8SzAwVT0"
      }
    },
    {
      "cell_type": "code",
      "source": [
        "data.to_csv(\"cleaned_Arsas.csv\")"
      ],
      "metadata": {
        "id": "QRxgl3Mdyom2"
      },
      "execution_count": 27,
      "outputs": []
    },
    {
      "cell_type": "markdown",
      "source": [
        "**asigning the reviews and classes to a new variables**\n",
        "\n",
        "\n"
      ],
      "metadata": {
        "id": "-gaLBhEqxFm4"
      }
    },
    {
      "cell_type": "code",
      "source": [
        "\n",
        "X = data.Clean_reviews\n",
        "y=pd.get_dummies(data.sentiment)\n",
        "# y = data.sentiment"
      ],
      "metadata": {
        "id": "WpJPNTiJyojS"
      },
      "execution_count": 28,
      "outputs": []
    },
    {
      "cell_type": "markdown",
      "source": [
        "**spliting the data to train and test set**\n",
        "\n"
      ],
      "metadata": {
        "id": "P4WSBjAMykJ9"
      }
    },
    {
      "cell_type": "code",
      "source": [
        "X_train, X_test, y_train, y_test = train_test_split(X, \n",
        "                                                    y, \n",
        "                                                    test_size = 0.20, \n",
        "                                                    random_state = 42)"
      ],
      "metadata": {
        "id": "bpZ_HWVHyoe7"
      },
      "execution_count": 29,
      "outputs": []
    },
    {
      "cell_type": "markdown",
      "source": [
        "**printing the number of the train set and the test set**"
      ],
      "metadata": {
        "id": "Y4HZcNovzTam"
      }
    },
    {
      "cell_type": "code",
      "source": [
        "print('Train set', X_train.shape)\n",
        "print('Test set', X_test.shape)"
      ],
      "metadata": {
        "colab": {
          "base_uri": "https://localhost:8080/"
        },
        "id": "pc1SqlVHyoaS",
        "outputId": "f9832311-cfbb-4672-975b-794e068bbdd7"
      },
      "execution_count": 30,
      "outputs": [
        {
          "output_type": "stream",
          "name": "stdout",
          "text": [
            "Train set (16796,)\n",
            "Test set (4200,)\n"
          ]
        }
      ]
    },
    {
      "cell_type": "code",
      "source": [
        "from google.colab import drive\n",
        "drive.mount('/content/gdrive')"
      ],
      "metadata": {
        "colab": {
          "base_uri": "https://localhost:8080/"
        },
        "id": "15X3aM6qgDm3",
        "outputId": "d38027cc-6a36-4ab7-d963-451a8f3bad5f"
      },
      "execution_count": 31,
      "outputs": [
        {
          "output_type": "stream",
          "name": "stdout",
          "text": [
            "Drive already mounted at /content/gdrive; to attempt to forcibly remount, call drive.mount(\"/content/gdrive\", force_remount=True).\n"
          ]
        }
      ]
    },
    {
      "cell_type": "markdown",
      "source": [
        "**Uploading the fsttext pretrained word embedding with 150 dimension**"
      ],
      "metadata": {
        "id": "cI8tRb3Nz5aR"
      }
    },
    {
      "cell_type": "code",
      "source": [
        "%%time\n",
        "target_word_vec = KeyedVectors.load_word2vec_format(\"/content/gdrive/MyDrive/thesis/cc.ar.150.vec\", binary = False)"
      ],
      "metadata": {
        "colab": {
          "base_uri": "https://localhost:8080/"
        },
        "id": "sJ3CP3XulykU",
        "outputId": "21d2819b-25dc-4933-c783-b6f2315055cc"
      },
      "execution_count": 32,
      "outputs": [
        {
          "output_type": "stream",
          "name": "stdout",
          "text": [
            "CPU times: user 2min 47s, sys: 3.83 s, total: 2min 50s\n",
            "Wall time: 2min 58s\n"
          ]
        }
      ]
    },
    {
      "cell_type": "markdown",
      "source": [
        "**tokenization of the reviews**"
      ],
      "metadata": {
        "id": "-pQIBI1c0OBw"
      }
    },
    {
      "cell_type": "code",
      "source": [
        "%%time\n",
        "tokenizer = Tokenizer()\n",
        "tokenizer.fit_on_texts(X_train)"
      ],
      "metadata": {
        "id": "fXkSR3KGyoNv",
        "colab": {
          "base_uri": "https://localhost:8080/"
        },
        "outputId": "378a0e5f-9cd3-48a2-c0d8-16423e32e39c"
      },
      "execution_count": 33,
      "outputs": [
        {
          "output_type": "stream",
          "name": "stdout",
          "text": [
            "CPU times: user 550 ms, sys: 16 ms, total: 566 ms\n",
            "Wall time: 567 ms\n"
          ]
        }
      ]
    },
    {
      "cell_type": "code",
      "source": [
        "word_index = tokenizer.word_index\n",
        "vocab_size = len(tokenizer.word_index) + 1"
      ],
      "metadata": {
        "id": "L7UW4cKKyoKw"
      },
      "execution_count": 34,
      "outputs": []
    },
    {
      "cell_type": "markdown",
      "source": [
        "**making all reviews of the same length 70**"
      ],
      "metadata": {
        "id": "N8LmKYq60SX6"
      }
    },
    {
      "cell_type": "code",
      "source": [
        "%%time\n",
        "MAX_SEQUENCE_LENGTH = 70\n",
        "\n",
        "X_train = pad_sequences(tokenizer.texts_to_sequences(X_train),\n",
        "                        maxlen = MAX_SEQUENCE_LENGTH)\n",
        "X_test = pad_sequences(tokenizer.texts_to_sequences(X_test),\n",
        "                       maxlen = MAX_SEQUENCE_LENGTH)\n",
        "\n",
        "print(\"Training X Shape:\", X_train.shape)\n",
        "print(\"Testing X Shape:\", X_test.shape)"
      ],
      "metadata": {
        "id": "FDcsR7lYxl0Z",
        "colab": {
          "base_uri": "https://localhost:8080/"
        },
        "outputId": "9d8f64d7-f6e6-4d31-9265-904d50321620"
      },
      "execution_count": 35,
      "outputs": [
        {
          "output_type": "stream",
          "name": "stdout",
          "text": [
            "Training X Shape: (16796, 70)\n",
            "Testing X Shape: (4200, 70)\n",
            "CPU times: user 1 s, sys: 13.1 ms, total: 1.02 s\n",
            "Wall time: 1.01 s\n"
          ]
        }
      ]
    },
    {
      "cell_type": "markdown",
      "source": [
        "**Construction of the embedding matrix**"
      ],
      "metadata": {
        "id": "DiIxpGhc0tkE"
      }
    },
    {
      "cell_type": "code",
      "source": [
        "%%time\n",
        "embedding_matrix = np.zeros((vocab_size, 150))\n",
        "\n",
        "for word, i in word_index.items():\n",
        "    if word in target_word_vec :\n",
        "        embedding_vector = target_word_vec[word]\n",
        "        if embedding_vector is not None:\n",
        "            embedding_matrix[i] = embedding_vector"
      ],
      "metadata": {
        "id": "owcBaGGn2JWz",
        "colab": {
          "base_uri": "https://localhost:8080/"
        },
        "outputId": "4794e9da-960d-4fb2-91d6-b654f2bbbf43"
      },
      "execution_count": 36,
      "outputs": [
        {
          "output_type": "stream",
          "name": "stdout",
          "text": [
            "CPU times: user 169 ms, sys: 24 ms, total: 193 ms\n",
            "Wall time: 192 ms\n"
          ]
        }
      ]
    },
    {
      "cell_type": "code",
      "source": [
        "embedding_matrix.shape[0] == vocab_size"
      ],
      "metadata": {
        "id": "Eqa9cn0_2JHa",
        "colab": {
          "base_uri": "https://localhost:8080/"
        },
        "outputId": "a1a55c86-f5e3-41ea-df63-e03aa693b21f"
      },
      "execution_count": 37,
      "outputs": [
        {
          "output_type": "execute_result",
          "data": {
            "text/plain": [
              "True"
            ]
          },
          "metadata": {},
          "execution_count": 37
        }
      ]
    },
    {
      "cell_type": "markdown",
      "source": [
        "**Creating the model**"
      ],
      "metadata": {
        "id": "LOqaUPgk054V"
      }
    },
    {
      "cell_type": "code",
      "source": [
        "model = Sequential()\n",
        "embedding_layer = Embedding(vocab_size, \n",
        "                            150, \n",
        "                            weights = [embedding_matrix], \n",
        "                            input_length = MAX_SEQUENCE_LENGTH, \n",
        "                            trainable=False)\n",
        "model.add(embedding_layer)\n",
        "model.add(Conv1D(filters=64, kernel_size=2, activation='relu'))\n",
        "model.add(LSTM(64, dropout=0.2, return_sequences=True))\n",
        "model.add(GlobalMaxPooling1D())\n",
        "model.add(Dropout(0.2))\n",
        "model.add(Dense(4, activation='softmax'))\n",
        "\n",
        "model.compile(optimizer = Adam(learning_rate=0.001), \n",
        "              loss = 'categorical_crossentropy',\n",
        "              metrics = ['accuracy'])\n",
        "\n",
        "es = EarlyStopping(monitor='val_loss', mode='min', verbose=1, patience=5)\n",
        "print(model.summary())"
      ],
      "metadata": {
        "id": "m58bq44X2JDr",
        "colab": {
          "base_uri": "https://localhost:8080/"
        },
        "outputId": "655d3dcf-e89c-4539-9d39-c1bf05840a62"
      },
      "execution_count": 52,
      "outputs": [
        {
          "output_type": "stream",
          "name": "stdout",
          "text": [
            "Model: \"sequential_1\"\n",
            "_________________________________________________________________\n",
            " Layer (type)                Output Shape              Param #   \n",
            "=================================================================\n",
            " embedding_1 (Embedding)     (None, 70, 150)           7419000   \n",
            "                                                                 \n",
            " conv1d_1 (Conv1D)           (None, 69, 64)            19264     \n",
            "                                                                 \n",
            " lstm_1 (LSTM)               (None, 69, 64)            33024     \n",
            "                                                                 \n",
            " global_max_pooling1d_1 (Glo  (None, 64)               0         \n",
            " balMaxPooling1D)                                                \n",
            "                                                                 \n",
            " dropout_1 (Dropout)         (None, 64)                0         \n",
            "                                                                 \n",
            " dense_1 (Dense)             (None, 4)                 260       \n",
            "                                                                 \n",
            "=================================================================\n",
            "Total params: 7,471,548\n",
            "Trainable params: 52,548\n",
            "Non-trainable params: 7,419,000\n",
            "_________________________________________________________________\n",
            "None\n"
          ]
        }
      ]
    },
    {
      "cell_type": "markdown",
      "source": [
        "**fitting the model to the dataset**"
      ],
      "metadata": {
        "id": "t87TTNfP0_74"
      }
    },
    {
      "cell_type": "code",
      "source": [
        "history = model.fit(X_train, y_train, validation_split=0.15, batch_size = 128, epochs=20, verbose=1, callbacks=[es])"
      ],
      "metadata": {
        "id": "gAO_1wSM2I_l",
        "colab": {
          "base_uri": "https://localhost:8080/"
        },
        "outputId": "0bf237e1-1d0f-412d-dda2-70255b88d93f"
      },
      "execution_count": 53,
      "outputs": [
        {
          "output_type": "stream",
          "name": "stdout",
          "text": [
            "Epoch 1/20\n",
            "112/112 [==============================] - 3s 15ms/step - loss: 1.0455 - accuracy: 0.5707 - val_loss: 0.8526 - val_accuracy: 0.6675\n",
            "Epoch 2/20\n",
            "112/112 [==============================] - 1s 10ms/step - loss: 0.8302 - accuracy: 0.6872 - val_loss: 0.7718 - val_accuracy: 0.7028\n",
            "Epoch 3/20\n",
            "112/112 [==============================] - 1s 10ms/step - loss: 0.7757 - accuracy: 0.7132 - val_loss: 0.7409 - val_accuracy: 0.7127\n",
            "Epoch 4/20\n",
            "112/112 [==============================] - 1s 10ms/step - loss: 0.7477 - accuracy: 0.7221 - val_loss: 0.7313 - val_accuracy: 0.7175\n",
            "Epoch 5/20\n",
            "112/112 [==============================] - 1s 10ms/step - loss: 0.7299 - accuracy: 0.7274 - val_loss: 0.7267 - val_accuracy: 0.7163\n",
            "Epoch 6/20\n",
            "112/112 [==============================] - 1s 10ms/step - loss: 0.7201 - accuracy: 0.7334 - val_loss: 0.7071 - val_accuracy: 0.7329\n",
            "Epoch 7/20\n",
            "112/112 [==============================] - 1s 10ms/step - loss: 0.7039 - accuracy: 0.7419 - val_loss: 0.7029 - val_accuracy: 0.7254\n",
            "Epoch 8/20\n",
            "112/112 [==============================] - 1s 10ms/step - loss: 0.6973 - accuracy: 0.7420 - val_loss: 0.7115 - val_accuracy: 0.7194\n",
            "Epoch 9/20\n",
            "112/112 [==============================] - 1s 10ms/step - loss: 0.6892 - accuracy: 0.7473 - val_loss: 0.6932 - val_accuracy: 0.7294\n",
            "Epoch 10/20\n",
            "112/112 [==============================] - 1s 10ms/step - loss: 0.6745 - accuracy: 0.7527 - val_loss: 0.7025 - val_accuracy: 0.7294\n",
            "Epoch 11/20\n",
            "112/112 [==============================] - 1s 10ms/step - loss: 0.6741 - accuracy: 0.7512 - val_loss: 0.6924 - val_accuracy: 0.7302\n",
            "Epoch 12/20\n",
            "112/112 [==============================] - 1s 9ms/step - loss: 0.6612 - accuracy: 0.7554 - val_loss: 0.6844 - val_accuracy: 0.7365\n",
            "Epoch 13/20\n",
            "112/112 [==============================] - 1s 10ms/step - loss: 0.6601 - accuracy: 0.7578 - val_loss: 0.6812 - val_accuracy: 0.7389\n",
            "Epoch 14/20\n",
            "112/112 [==============================] - 1s 10ms/step - loss: 0.6465 - accuracy: 0.7620 - val_loss: 0.6836 - val_accuracy: 0.7337\n",
            "Epoch 15/20\n",
            "112/112 [==============================] - 1s 10ms/step - loss: 0.6407 - accuracy: 0.7639 - val_loss: 0.6854 - val_accuracy: 0.7413\n",
            "Epoch 16/20\n",
            "112/112 [==============================] - 1s 10ms/step - loss: 0.6309 - accuracy: 0.7714 - val_loss: 0.6846 - val_accuracy: 0.7365\n",
            "Epoch 17/20\n",
            "112/112 [==============================] - 1s 10ms/step - loss: 0.6274 - accuracy: 0.7679 - val_loss: 0.6746 - val_accuracy: 0.7417\n",
            "Epoch 18/20\n",
            "112/112 [==============================] - 1s 9ms/step - loss: 0.6190 - accuracy: 0.7711 - val_loss: 0.6771 - val_accuracy: 0.7393\n",
            "Epoch 19/20\n",
            "112/112 [==============================] - 1s 10ms/step - loss: 0.6149 - accuracy: 0.7719 - val_loss: 0.6756 - val_accuracy: 0.7373\n",
            "Epoch 20/20\n",
            "112/112 [==============================] - 1s 10ms/step - loss: 0.6133 - accuracy: 0.7714 - val_loss: 0.6824 - val_accuracy: 0.7381\n"
          ]
        }
      ]
    },
    {
      "cell_type": "markdown",
      "source": [
        "**Evaluating the model**"
      ],
      "metadata": {
        "id": "M773tQ4P1PZt"
      }
    },
    {
      "cell_type": "code",
      "source": [
        "loss_train = history.history['loss']\n",
        "loss_val = history.history['val_loss']\n",
        "epochs = range(1,21)\n",
        "plt.plot(epochs, loss_train, 'g', label='Training loss')\n",
        "plt.plot(epochs, loss_val, 'b', label='validation loss')\n",
        "plt.title('Training and Validation loss')\n",
        "plt.xlabel('Epochs')\n",
        "plt.ylabel('Loss')\n",
        "plt.legend()\n",
        "plt.show()"
      ],
      "metadata": {
        "colab": {
          "base_uri": "https://localhost:8080/",
          "height": 295
        },
        "id": "JhMrl7zEQ3vy",
        "outputId": "a6f772eb-5b35-4cd6-f1fe-d3d6c293961f"
      },
      "execution_count": 54,
      "outputs": [
        {
          "output_type": "display_data",
          "data": {
            "text/plain": [
              "<Figure size 432x288 with 1 Axes>"
            ],
            "image/png": "[encoded data removed]"
          },
          "metadata": {
            "needs_background": "light"
          }
        }
      ]
    },
    {
      "cell_type": "code",
      "source": [
        "loss_train = history.history['accuracy']\n",
        "loss_val = history.history['val_accuracy']\n",
        "epochs = range(1,21)\n",
        "plt.plot(epochs, loss_train, 'g', label='Training accuracy')\n",
        "plt.plot(epochs, loss_val, 'b', label='validation accuracy')\n",
        "plt.title('Training and Validation accuracy')\n",
        "plt.xlabel('Epochs')\n",
        "plt.ylabel('Accuracy')\n",
        "plt.legend()\n",
        "plt.show()"
      ],
      "metadata": {
        "colab": {
          "base_uri": "https://localhost:8080/",
          "height": 295
        },
        "id": "hNOhPfNVQ3l7",
        "outputId": "96fd4dea-027f-41ee-988b-5a5a3aa4055f"
      },
      "execution_count": 55,
      "outputs": [
        {
          "output_type": "display_data",
          "data": {
            "text/plain": [
              "<Figure size 432x288 with 1 Axes>"
            ],
            "image/png": "[encoded data removed]"
          },
          "metadata": {
            "needs_background": "light"
          }
        }
      ]
    },
    {
      "cell_type": "code",
      "source": [
        "score = model.evaluate(X_test, y_test, verbose=1)\n",
        "print(\"%s: %.2f%%\" % (model.metrics_names[1], score[1]*100))"
      ],
      "metadata": {
        "id": "t9z560Wi2I6o",
        "colab": {
          "base_uri": "https://localhost:8080/"
        },
        "outputId": "cdb9da6c-a7f8-4b2b-cfef-88295f425740"
      },
      "execution_count": 56,
      "outputs": [
        {
          "output_type": "stream",
          "name": "stdout",
          "text": [
            "132/132 [==============================] - 1s 6ms/step - loss: 0.7244 - accuracy: 0.7260\n",
            "accuracy: 72.60%\n"
          ]
        }
      ]
    },
    {
      "cell_type": "code",
      "source": [
        "y_pred = model.predict(X_test)\n",
        "\n",
        "y_pred = (y_pred > 0.5) "
      ],
      "metadata": {
        "id": "mKgiUmS329sV"
      },
      "execution_count": 43,
      "outputs": []
    },
    {
      "cell_type": "code",
      "source": [
        "print(classification_report(y_test, y_pred))"
      ],
      "metadata": {
        "id": "DhC7jTvN29Wd",
        "colab": {
          "base_uri": "https://localhost:8080/"
        },
        "outputId": "6414a66a-1df4-4a87-eaaa-4846b2ab7ca9"
      },
      "execution_count": 44,
      "outputs": [
        {
          "output_type": "stream",
          "name": "stdout",
          "text": [
            "              precision    recall  f1-score   support\n",
            "\n",
            "           0       0.76      0.78      0.77      1529\n",
            "           1       0.73      0.54      0.62       923\n",
            "           2       0.00      0.00      0.00       275\n",
            "           3       0.80      0.78      0.79      1473\n",
            "\n",
            "   micro avg       0.77      0.68      0.72      4200\n",
            "   macro avg       0.57      0.53      0.55      4200\n",
            "weighted avg       0.72      0.68      0.69      4200\n",
            " samples avg       0.68      0.68      0.68      4200\n",
            "\n"
          ]
        }
      ]
    },
    {
      "cell_type": "markdown",
      "source": [
        "**function for creating confusion matrix**"
      ],
      "metadata": {
        "id": "zm1S_eVC1YQH"
      }
    },
    {
      "cell_type": "code",
      "source": [
        "def print_confusion_matrix(confusion_matrix, class_names, title='Confusion matrix', figsize = (6,6), fontsize=14):\n",
        "    df_cm = pd.DataFrame(\n",
        "        confusion_matrix, index=class_names, columns=class_names, \n",
        "    )\n",
        "    fig = plt.figure(figsize=figsize)\n",
        "    try:\n",
        "        heatmap = sns.heatmap(df_cm, annot=True, fmt=\"d\")\n",
        "    except ValueError:\n",
        "        raise ValueError(\"Confusion matrix values must be integers.\")\n",
        "    heatmap.yaxis.set_ticklabels(heatmap.yaxis.get_ticklabels(), rotation=0, ha='right', fontsize=fontsize)\n",
        "    heatmap.xaxis.set_ticklabels(heatmap.xaxis.get_ticklabels(), rotation=45, ha='right', fontsize=fontsize)\n",
        "    plt.ylabel('True label')\n",
        "    plt.xlabel('Predicted label')\n",
        "    plt.title(title, fontsize=20)\n",
        "    \n",
        "    return fig"
      ],
      "metadata": {
        "id": "C9wpCE6K29RD"
      },
      "execution_count": 45,
      "outputs": []
    },
    {
      "cell_type": "markdown",
      "source": [
        "**printing the confusion matrix**"
      ],
      "metadata": {
        "id": "WRT8-dl56eeJ"
      }
    },
    {
      "cell_type": "code",
      "source": [
        "from sklearn.metrics import multilabel_confusion_matrix\n",
        "\n",
        "cnf_matrix = multilabel_confusion_matrix(y_test, y_pred).reshape(4*1, -1)\n",
        "classes = [str(x) for x in list(y_test.columns.values.tolist())]\n",
        "\n",
        "print_confusion_matrix(cnf_matrix, classes);"
      ],
      "metadata": {
        "id": "wPe6GcS93STT",
        "colab": {
          "base_uri": "https://localhost:8080/",
          "height": 415
        },
        "outputId": "651ef2eb-6e20-45d9-d992-241288d85d61"
      },
      "execution_count": 46,
      "outputs": [
        {
          "output_type": "display_data",
          "data": {
            "text/plain": [
              "<Figure size 432x432 with 2 Axes>"
            ],
            "image/png": "[encoded data removed]"
          },
          "metadata": {
            "needs_background": "light"
          }
        }
      ]
    }
  ],
  "metadata": {
    "colab": {
      "collapsed_sections": [],
      "name": "Sentiment Analysis - CNN_LSTM(Using Arsas Dataset) -.ipynb",
      "provenance": []
    },
    "kernelspec": {
      "display_name": "Python 3",
      "name": "python3"
    },
    "language_info": {
      "name": "python"
    },
    "accelerator": "GPU"
  },
  "nbformat": 4,
  "nbformat_minor": 0
}